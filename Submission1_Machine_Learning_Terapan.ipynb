{
  "nbformat": 4,
  "nbformat_minor": 0,
  "metadata": {
    "colab": {
      "name": "Submission1  Machine Learning Terapan .ipynb",
      "provenance": [],
      "collapsed_sections": [],
      "authorship_tag": "ABX9TyMDdH9mpQBEXfdH6TWPU1CF",
      "include_colab_link": true
    },
    "kernelspec": {
      "name": "python3",
      "display_name": "Python 3"
    },
    "language_info": {
      "name": "python"
    }
  },
  "cells": [
    {
      "cell_type": "markdown",
      "metadata": {
        "id": "view-in-github",
        "colab_type": "text"
      },
      "source": [
        "<a href=\"https://colab.research.google.com/github/Fahlevi20/Machine-Learning-Terapan---Data-Analytics/blob/main/Submission1_Machine_Learning_Terapan.ipynb\" target=\"_parent\"><img src=\"https://colab.research.google.com/assets/colab-badge.svg\" alt=\"Open In Colab\"/></a>"
      ]
    },
    {
      "cell_type": "markdown",
      "metadata": {
        "id": "ivqcKGZJpmsB"
      },
      "source": [
        "# Import Library"
      ]
    },
    {
      "cell_type": "markdown",
      "metadata": {
        "id": "BWXiM9DJps30"
      },
      "source": [
        "Mengimport Library untuk melakukan Exploratory Data Analisis"
      ]
    },
    {
      "cell_type": "code",
      "metadata": {
        "id": "RVJJGyn5oWQZ"
      },
      "source": [
        "import pandas as pd\n",
        "import numpy as np\n",
        "import matplotlib.pyplot as plt\n",
        "import seaborn as sns\n",
        "import plotly.graph_objects as go\n",
        "from io import BytesIO\n",
        "import requests\n",
        "import plotly.express as px"
      ],
      "execution_count": 42,
      "outputs": []
    },
    {
      "cell_type": "markdown",
      "metadata": {
        "id": "wzjc0DE9pyJp"
      },
      "source": [
        "# Import Kaggle"
      ]
    },
    {
      "cell_type": "code",
      "metadata": {
        "id": "EAEWrfYQoNzU"
      },
      "source": [
        "pip install -q kaggle"
      ],
      "execution_count": null,
      "outputs": []
    },
    {
      "cell_type": "code",
      "metadata": {
        "colab": {
          "resources": {
            "http://localhost:8080/nbextensions/google.colab/files.js": {
              "data": "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",
              "ok": true,
              "headers": [
                [
                  "content-type",
                  "application/javascript"
                ]
              ],
              "status": 200,
              "status_text": ""
            }
          },
          "base_uri": "https://localhost:8080/",
          "height": 91
        },
        "id": "8og0IYnEoRxo",
        "outputId": "13a8674e-6367-4426-bcbc-c4ff2932bbdc"
      },
      "source": [
        "from google.colab import files\n",
        "files.upload()"
      ],
      "execution_count": null,
      "outputs": [
        {
          "output_type": "display_data",
          "data": {
            "text/html": [
              "\n",
              "     <input type=\"file\" id=\"files-faba8498-09e4-461c-9a71-c5fc90395877\" name=\"files[]\" multiple disabled\n",
              "        style=\"border:none\" />\n",
              "     <output id=\"result-faba8498-09e4-461c-9a71-c5fc90395877\">\n",
              "      Upload widget is only available when the cell has been executed in the\n",
              "      current browser session. Please rerun this cell to enable.\n",
              "      </output>\n",
              "      <script src=\"/nbextensions/google.colab/files.js\"></script> "
            ],
            "text/plain": [
              "<IPython.core.display.HTML object>"
            ]
          },
          "metadata": {}
        },
        {
          "output_type": "stream",
          "name": "stdout",
          "text": [
            "Saving kaggle.json to kaggle.json\n"
          ]
        },
        {
          "output_type": "execute_result",
          "data": {
            "text/plain": [
              "{'kaggle.json': b'{\"username\":\"alpiansyahrizqi\",\"key\":\"4ec2871806d4a125d51415bdc1e5a75a\"}'}"
            ]
          },
          "metadata": {},
          "execution_count": 2
        }
      ]
    },
    {
      "cell_type": "code",
      "metadata": {
        "colab": {
          "base_uri": "https://localhost:8080/"
        },
        "id": "JjNC2xrDog94",
        "outputId": "cd055b24-8ef8-474c-d669-d1dcbe8b61ba"
      },
      "source": [
        "!mkdir -p ~/.kaggle\n",
        "!cp kaggle.json ~/.kaggle/\n",
        "!chmod 600 ~/.kaggle/kaggle.json\n",
        "!ls ~/.kaggle"
      ],
      "execution_count": null,
      "outputs": [
        {
          "output_type": "stream",
          "name": "stdout",
          "text": [
            "kaggle.json\n"
          ]
        }
      ]
    },
    {
      "cell_type": "code",
      "metadata": {
        "colab": {
          "base_uri": "https://localhost:8080/"
        },
        "id": "aCPcXEbyom6r",
        "outputId": "f54c9d80-f142-42bd-e5fc-c2e40226b670"
      },
      "source": [
        "!kaggle datasets download -d adityadesai13/used-car-dataset-ford-and-mercedes"
      ],
      "execution_count": null,
      "outputs": [
        {
          "output_type": "stream",
          "name": "stdout",
          "text": [
            "Downloading used-car-dataset-ford-and-mercedes.zip to /content\n",
            "\r  0% 0.00/1.10M [00:00<?, ?B/s]\n",
            "\r100% 1.10M/1.10M [00:00<00:00, 36.9MB/s]\n"
          ]
        }
      ]
    },
    {
      "cell_type": "code",
      "metadata": {
        "colab": {
          "base_uri": "https://localhost:8080/"
        },
        "id": "Pw4Nz1aSopK0",
        "outputId": "36d698bb-b58a-48e3-d87f-f2dd5154f56a"
      },
      "source": [
        "!unzip /content/used-car-dataset-ford-and-mercedes.zip"
      ],
      "execution_count": null,
      "outputs": [
        {
          "output_type": "stream",
          "name": "stdout",
          "text": [
            "Archive:  /content/used-car-dataset-ford-and-mercedes.zip\n",
            "  inflating: audi.csv                \n",
            "  inflating: bmw.csv                 \n",
            "  inflating: cclass.csv              \n",
            "  inflating: focus.csv               \n",
            "  inflating: ford.csv                \n",
            "  inflating: hyundi.csv              \n",
            "  inflating: merc.csv                \n",
            "  inflating: skoda.csv               \n",
            "  inflating: toyota.csv              \n",
            "  inflating: unclean cclass.csv      \n",
            "  inflating: unclean focus.csv       \n",
            "  inflating: vauxhall.csv            \n",
            "  inflating: vw.csv                  \n"
          ]
        }
      ]
    },
    {
      "cell_type": "markdown",
      "metadata": {
        "id": "KSC-tkNpp7sH"
      },
      "source": [
        "# IMPORT DATASET"
      ]
    },
    {
      "cell_type": "code",
      "metadata": {
        "colab": {
          "base_uri": "https://localhost:8080/",
          "height": 423
        },
        "id": "sOvqiK4EoukH",
        "outputId": "015ea94b-c0c9-4809-efcc-3df266f63a09"
      },
      "source": [
        "df=pd.read_csv('vw.csv')\n",
        "df"
      ],
      "execution_count": 19,
      "outputs": [
        {
          "output_type": "execute_result",
          "data": {
            "text/html": [
              "<div>\n",
              "<style scoped>\n",
              "    .dataframe tbody tr th:only-of-type {\n",
              "        vertical-align: middle;\n",
              "    }\n",
              "\n",
              "    .dataframe tbody tr th {\n",
              "        vertical-align: top;\n",
              "    }\n",
              "\n",
              "    .dataframe thead th {\n",
              "        text-align: right;\n",
              "    }\n",
              "</style>\n",
              "<table border=\"1\" class=\"dataframe\">\n",
              "  <thead>\n",
              "    <tr style=\"text-align: right;\">\n",
              "      <th></th>\n",
              "      <th>model</th>\n",
              "      <th>year</th>\n",
              "      <th>price</th>\n",
              "      <th>transmission</th>\n",
              "      <th>mileage</th>\n",
              "      <th>fuelType</th>\n",
              "      <th>tax</th>\n",
              "      <th>mpg</th>\n",
              "      <th>engineSize</th>\n",
              "    </tr>\n",
              "  </thead>\n",
              "  <tbody>\n",
              "    <tr>\n",
              "      <th>0</th>\n",
              "      <td>T-Roc</td>\n",
              "      <td>2019</td>\n",
              "      <td>25000</td>\n",
              "      <td>Automatic</td>\n",
              "      <td>13904</td>\n",
              "      <td>Diesel</td>\n",
              "      <td>145</td>\n",
              "      <td>49.6</td>\n",
              "      <td>2.0</td>\n",
              "    </tr>\n",
              "    <tr>\n",
              "      <th>1</th>\n",
              "      <td>T-Roc</td>\n",
              "      <td>2019</td>\n",
              "      <td>26883</td>\n",
              "      <td>Automatic</td>\n",
              "      <td>4562</td>\n",
              "      <td>Diesel</td>\n",
              "      <td>145</td>\n",
              "      <td>49.6</td>\n",
              "      <td>2.0</td>\n",
              "    </tr>\n",
              "    <tr>\n",
              "      <th>2</th>\n",
              "      <td>T-Roc</td>\n",
              "      <td>2019</td>\n",
              "      <td>20000</td>\n",
              "      <td>Manual</td>\n",
              "      <td>7414</td>\n",
              "      <td>Diesel</td>\n",
              "      <td>145</td>\n",
              "      <td>50.4</td>\n",
              "      <td>2.0</td>\n",
              "    </tr>\n",
              "    <tr>\n",
              "      <th>3</th>\n",
              "      <td>T-Roc</td>\n",
              "      <td>2019</td>\n",
              "      <td>33492</td>\n",
              "      <td>Automatic</td>\n",
              "      <td>4825</td>\n",
              "      <td>Petrol</td>\n",
              "      <td>145</td>\n",
              "      <td>32.5</td>\n",
              "      <td>2.0</td>\n",
              "    </tr>\n",
              "    <tr>\n",
              "      <th>4</th>\n",
              "      <td>T-Roc</td>\n",
              "      <td>2019</td>\n",
              "      <td>22900</td>\n",
              "      <td>Semi-Auto</td>\n",
              "      <td>6500</td>\n",
              "      <td>Petrol</td>\n",
              "      <td>150</td>\n",
              "      <td>39.8</td>\n",
              "      <td>1.5</td>\n",
              "    </tr>\n",
              "    <tr>\n",
              "      <th>...</th>\n",
              "      <td>...</td>\n",
              "      <td>...</td>\n",
              "      <td>...</td>\n",
              "      <td>...</td>\n",
              "      <td>...</td>\n",
              "      <td>...</td>\n",
              "      <td>...</td>\n",
              "      <td>...</td>\n",
              "      <td>...</td>\n",
              "    </tr>\n",
              "    <tr>\n",
              "      <th>15152</th>\n",
              "      <td>Eos</td>\n",
              "      <td>2012</td>\n",
              "      <td>5990</td>\n",
              "      <td>Manual</td>\n",
              "      <td>74000</td>\n",
              "      <td>Diesel</td>\n",
              "      <td>125</td>\n",
              "      <td>58.9</td>\n",
              "      <td>2.0</td>\n",
              "    </tr>\n",
              "    <tr>\n",
              "      <th>15153</th>\n",
              "      <td>Fox</td>\n",
              "      <td>2008</td>\n",
              "      <td>1799</td>\n",
              "      <td>Manual</td>\n",
              "      <td>88102</td>\n",
              "      <td>Petrol</td>\n",
              "      <td>145</td>\n",
              "      <td>46.3</td>\n",
              "      <td>1.2</td>\n",
              "    </tr>\n",
              "    <tr>\n",
              "      <th>15154</th>\n",
              "      <td>Fox</td>\n",
              "      <td>2009</td>\n",
              "      <td>1590</td>\n",
              "      <td>Manual</td>\n",
              "      <td>70000</td>\n",
              "      <td>Petrol</td>\n",
              "      <td>200</td>\n",
              "      <td>42.0</td>\n",
              "      <td>1.4</td>\n",
              "    </tr>\n",
              "    <tr>\n",
              "      <th>15155</th>\n",
              "      <td>Fox</td>\n",
              "      <td>2006</td>\n",
              "      <td>1250</td>\n",
              "      <td>Manual</td>\n",
              "      <td>82704</td>\n",
              "      <td>Petrol</td>\n",
              "      <td>150</td>\n",
              "      <td>46.3</td>\n",
              "      <td>1.2</td>\n",
              "    </tr>\n",
              "    <tr>\n",
              "      <th>15156</th>\n",
              "      <td>Fox</td>\n",
              "      <td>2007</td>\n",
              "      <td>2295</td>\n",
              "      <td>Manual</td>\n",
              "      <td>74000</td>\n",
              "      <td>Petrol</td>\n",
              "      <td>145</td>\n",
              "      <td>46.3</td>\n",
              "      <td>1.2</td>\n",
              "    </tr>\n",
              "  </tbody>\n",
              "</table>\n",
              "<p>15157 rows × 9 columns</p>\n",
              "</div>"
            ],
            "text/plain": [
              "        model  year  price transmission  mileage fuelType  tax   mpg  \\\n",
              "0       T-Roc  2019  25000    Automatic    13904   Diesel  145  49.6   \n",
              "1       T-Roc  2019  26883    Automatic     4562   Diesel  145  49.6   \n",
              "2       T-Roc  2019  20000       Manual     7414   Diesel  145  50.4   \n",
              "3       T-Roc  2019  33492    Automatic     4825   Petrol  145  32.5   \n",
              "4       T-Roc  2019  22900    Semi-Auto     6500   Petrol  150  39.8   \n",
              "...       ...   ...    ...          ...      ...      ...  ...   ...   \n",
              "15152     Eos  2012   5990       Manual    74000   Diesel  125  58.9   \n",
              "15153     Fox  2008   1799       Manual    88102   Petrol  145  46.3   \n",
              "15154     Fox  2009   1590       Manual    70000   Petrol  200  42.0   \n",
              "15155     Fox  2006   1250       Manual    82704   Petrol  150  46.3   \n",
              "15156     Fox  2007   2295       Manual    74000   Petrol  145  46.3   \n",
              "\n",
              "       engineSize  \n",
              "0             2.0  \n",
              "1             2.0  \n",
              "2             2.0  \n",
              "3             2.0  \n",
              "4             1.5  \n",
              "...           ...  \n",
              "15152         2.0  \n",
              "15153         1.2  \n",
              "15154         1.4  \n",
              "15155         1.2  \n",
              "15156         1.2  \n",
              "\n",
              "[15157 rows x 9 columns]"
            ]
          },
          "metadata": {},
          "execution_count": 19
        }
      ]
    },
    {
      "cell_type": "markdown",
      "metadata": {
        "id": "BMKSxSqxqCoz"
      },
      "source": [
        "# EXPLORATORY DATA ANALYSIS (EDA) & DATA CLEANING"
      ]
    },
    {
      "cell_type": "markdown",
      "metadata": {
        "id": "V0m1fMolqNHx"
      },
      "source": [
        "Disini saya melakukan Eksplorasi Data Analyis (EDA) dan Data Cleaning untuk memeriksa dataset yang akan saya training. Tujuannya adalah untuk melihat isi dari dataset tersebut apakah ada yang perlu dibuang atau tidak, apakah ada NaN, melihat tipe datanya, melihat jumlah kolom dan baris dan lainnya."
      ]
    },
    {
      "cell_type": "code",
      "metadata": {
        "colab": {
          "base_uri": "https://localhost:8080/"
        },
        "id": "dJzr-kSwo6oK",
        "outputId": "a331c7d1-1565-4884-d498-4d56b909ebec"
      },
      "source": [
        "print('===================EXPLORATORY DATA ANALYSIS=================================')\n",
        "long_string='========================================================================'\n",
        "def printByInformation(dataset, option=False):\n",
        "  if option:\n",
        "    pd.set_option('display.max_columns',None)\n",
        "    print(f'current col:{dataset.shape[0]}')\n",
        "    print(f'current rows:{dataset.shape[1]}')\n",
        "    print(long_string)\n",
        "    print('======================DATA CLEANING=======================================')\n",
        "    print(f'jumlah NaN {dataset.isnull().sum().sum()} dari NaN yg ditemukan')\n",
        "    print(long_string)\n",
        "    print(f'jumlah NaN tiap Column\\n{dataset.isnull().sum()}')\n",
        "    print(long_string)\n",
        "    print(f'Name Columns: {list(dataset.columns)}')\n",
        "    print(long_string)\n",
        "    print(f'{dataset.info()}')\n",
        "    print(long_string)\n",
        "    print(f'{dataset.describe()}')\n",
        "printByInformation(df,True)\n",
        "  "
      ],
      "execution_count": 20,
      "outputs": [
        {
          "output_type": "stream",
          "name": "stdout",
          "text": [
            "===================EXPLORATORY DATA ANALYSIS=================================\n",
            "current col:15157\n",
            "current rows:9\n",
            "========================================================================\n",
            "======================DATA CLEANING=======================================\n",
            "jumlah NaN 0 dari NaN yg ditemukan\n",
            "========================================================================\n",
            "jumlah NaN tiap Column\n",
            "model           0\n",
            "year            0\n",
            "price           0\n",
            "transmission    0\n",
            "mileage         0\n",
            "fuelType        0\n",
            "tax             0\n",
            "mpg             0\n",
            "engineSize      0\n",
            "dtype: int64\n",
            "========================================================================\n",
            "Name Columns: ['model', 'year', 'price', 'transmission', 'mileage', 'fuelType', 'tax', 'mpg', 'engineSize']\n",
            "========================================================================\n",
            "<class 'pandas.core.frame.DataFrame'>\n",
            "RangeIndex: 15157 entries, 0 to 15156\n",
            "Data columns (total 9 columns):\n",
            " #   Column        Non-Null Count  Dtype  \n",
            "---  ------        --------------  -----  \n",
            " 0   model         15157 non-null  object \n",
            " 1   year          15157 non-null  int64  \n",
            " 2   price         15157 non-null  int64  \n",
            " 3   transmission  15157 non-null  object \n",
            " 4   mileage       15157 non-null  int64  \n",
            " 5   fuelType      15157 non-null  object \n",
            " 6   tax           15157 non-null  int64  \n",
            " 7   mpg           15157 non-null  float64\n",
            " 8   engineSize    15157 non-null  float64\n",
            "dtypes: float64(2), int64(4), object(3)\n",
            "memory usage: 1.0+ MB\n",
            "None\n",
            "========================================================================\n",
            "               year         price        mileage           tax           mpg  \\\n",
            "count  15157.000000  15157.000000   15157.000000  15157.000000  15157.000000   \n",
            "mean    2017.255789  16838.952365   22092.785644    112.744277     53.753355   \n",
            "std        2.053059   7755.015206   21148.941635     63.482617     13.642182   \n",
            "min     2000.000000    899.000000       1.000000      0.000000      0.300000   \n",
            "25%     2016.000000  10990.000000    5962.000000     30.000000     46.300000   \n",
            "50%     2017.000000  15497.000000   16393.000000    145.000000     53.300000   \n",
            "75%     2019.000000  20998.000000   31824.000000    145.000000     60.100000   \n",
            "max     2020.000000  69994.000000  212000.000000    580.000000    188.300000   \n",
            "\n",
            "         engineSize  \n",
            "count  15157.000000  \n",
            "mean       1.600693  \n",
            "std        0.461695  \n",
            "min        0.000000  \n",
            "25%        1.200000  \n",
            "50%        1.600000  \n",
            "75%        2.000000  \n",
            "max        3.200000  \n"
          ]
        }
      ]
    },
    {
      "cell_type": "code",
      "metadata": {
        "colab": {
          "base_uri": "https://localhost:8080/",
          "height": 206
        },
        "id": "EVVa4Cr1o8my",
        "outputId": "b56de041-f985-4845-e02e-d6aaf32930ec"
      },
      "source": [
        "df.head()#melihat 5 data"
      ],
      "execution_count": 21,
      "outputs": [
        {
          "output_type": "execute_result",
          "data": {
            "text/html": [
              "<div>\n",
              "<style scoped>\n",
              "    .dataframe tbody tr th:only-of-type {\n",
              "        vertical-align: middle;\n",
              "    }\n",
              "\n",
              "    .dataframe tbody tr th {\n",
              "        vertical-align: top;\n",
              "    }\n",
              "\n",
              "    .dataframe thead th {\n",
              "        text-align: right;\n",
              "    }\n",
              "</style>\n",
              "<table border=\"1\" class=\"dataframe\">\n",
              "  <thead>\n",
              "    <tr style=\"text-align: right;\">\n",
              "      <th></th>\n",
              "      <th>model</th>\n",
              "      <th>year</th>\n",
              "      <th>price</th>\n",
              "      <th>transmission</th>\n",
              "      <th>mileage</th>\n",
              "      <th>fuelType</th>\n",
              "      <th>tax</th>\n",
              "      <th>mpg</th>\n",
              "      <th>engineSize</th>\n",
              "    </tr>\n",
              "  </thead>\n",
              "  <tbody>\n",
              "    <tr>\n",
              "      <th>0</th>\n",
              "      <td>T-Roc</td>\n",
              "      <td>2019</td>\n",
              "      <td>25000</td>\n",
              "      <td>Automatic</td>\n",
              "      <td>13904</td>\n",
              "      <td>Diesel</td>\n",
              "      <td>145</td>\n",
              "      <td>49.6</td>\n",
              "      <td>2.0</td>\n",
              "    </tr>\n",
              "    <tr>\n",
              "      <th>1</th>\n",
              "      <td>T-Roc</td>\n",
              "      <td>2019</td>\n",
              "      <td>26883</td>\n",
              "      <td>Automatic</td>\n",
              "      <td>4562</td>\n",
              "      <td>Diesel</td>\n",
              "      <td>145</td>\n",
              "      <td>49.6</td>\n",
              "      <td>2.0</td>\n",
              "    </tr>\n",
              "    <tr>\n",
              "      <th>2</th>\n",
              "      <td>T-Roc</td>\n",
              "      <td>2019</td>\n",
              "      <td>20000</td>\n",
              "      <td>Manual</td>\n",
              "      <td>7414</td>\n",
              "      <td>Diesel</td>\n",
              "      <td>145</td>\n",
              "      <td>50.4</td>\n",
              "      <td>2.0</td>\n",
              "    </tr>\n",
              "    <tr>\n",
              "      <th>3</th>\n",
              "      <td>T-Roc</td>\n",
              "      <td>2019</td>\n",
              "      <td>33492</td>\n",
              "      <td>Automatic</td>\n",
              "      <td>4825</td>\n",
              "      <td>Petrol</td>\n",
              "      <td>145</td>\n",
              "      <td>32.5</td>\n",
              "      <td>2.0</td>\n",
              "    </tr>\n",
              "    <tr>\n",
              "      <th>4</th>\n",
              "      <td>T-Roc</td>\n",
              "      <td>2019</td>\n",
              "      <td>22900</td>\n",
              "      <td>Semi-Auto</td>\n",
              "      <td>6500</td>\n",
              "      <td>Petrol</td>\n",
              "      <td>150</td>\n",
              "      <td>39.8</td>\n",
              "      <td>1.5</td>\n",
              "    </tr>\n",
              "  </tbody>\n",
              "</table>\n",
              "</div>"
            ],
            "text/plain": [
              "    model  year  price transmission  mileage fuelType  tax   mpg  engineSize\n",
              "0   T-Roc  2019  25000    Automatic    13904   Diesel  145  49.6         2.0\n",
              "1   T-Roc  2019  26883    Automatic     4562   Diesel  145  49.6         2.0\n",
              "2   T-Roc  2019  20000       Manual     7414   Diesel  145  50.4         2.0\n",
              "3   T-Roc  2019  33492    Automatic     4825   Petrol  145  32.5         2.0\n",
              "4   T-Roc  2019  22900    Semi-Auto     6500   Petrol  150  39.8         1.5"
            ]
          },
          "metadata": {},
          "execution_count": 21
        }
      ]
    },
    {
      "cell_type": "markdown",
      "metadata": {
        "id": "fHtBIlIsqT7a"
      },
      "source": [
        "# MEMERIKSA DATA YANG UNIK"
      ]
    },
    {
      "cell_type": "markdown",
      "metadata": {
        "id": "cR3lGiDzqffG"
      },
      "source": [
        "melihat data Unique untuk mempermudah nanti saat melakukan analisis data dan juga preprocessing "
      ]
    },
    {
      "cell_type": "code",
      "metadata": {
        "colab": {
          "base_uri": "https://localhost:8080/"
        },
        "id": "UhKslrW2pGUW",
        "outputId": "384aae5d-fc88-4002-d36f-1f7859fc705a"
      },
      "source": [
        "df['model'].unique()"
      ],
      "execution_count": 22,
      "outputs": [
        {
          "output_type": "execute_result",
          "data": {
            "text/plain": [
              "array([' T-Roc', ' Golf', ' Passat', ' T-Cross', ' Polo', ' Tiguan',\n",
              "       ' Sharan', ' Up', ' Scirocco', ' Beetle', ' Caddy Maxi Life',\n",
              "       ' Caravelle', ' Touareg', ' Arteon', ' Touran', ' Golf SV',\n",
              "       ' Amarok', ' Tiguan Allspace', ' Shuttle', ' Jetta', ' CC',\n",
              "       ' California', ' Caddy Life', ' Caddy', ' Caddy Maxi', ' Eos',\n",
              "       ' Fox'], dtype=object)"
            ]
          },
          "metadata": {},
          "execution_count": 22
        }
      ]
    },
    {
      "cell_type": "code",
      "metadata": {
        "colab": {
          "base_uri": "https://localhost:8080/"
        },
        "id": "pABtiLPopInE",
        "outputId": "291fd2aa-fceb-4b99-bd31-bdef734db2dd"
      },
      "source": [
        "df['transmission'].unique()"
      ],
      "execution_count": 23,
      "outputs": [
        {
          "output_type": "execute_result",
          "data": {
            "text/plain": [
              "array(['Automatic', 'Manual', 'Semi-Auto'], dtype=object)"
            ]
          },
          "metadata": {},
          "execution_count": 23
        }
      ]
    },
    {
      "cell_type": "code",
      "metadata": {
        "colab": {
          "base_uri": "https://localhost:8080/"
        },
        "id": "_JUbagUBpMd5",
        "outputId": "e84a2540-566c-4e6c-c9ac-806f41eea8c9"
      },
      "source": [
        "df['fuelType'].unique()"
      ],
      "execution_count": 24,
      "outputs": [
        {
          "output_type": "execute_result",
          "data": {
            "text/plain": [
              "array(['Diesel', 'Petrol', 'Other', 'Hybrid'], dtype=object)"
            ]
          },
          "metadata": {},
          "execution_count": 24
        }
      ]
    },
    {
      "cell_type": "markdown",
      "metadata": {
        "id": "cb2SJ9LYq0az"
      },
      "source": [
        "# DATA VISUALIZATION"
      ]
    },
    {
      "cell_type": "markdown",
      "metadata": {
        "id": "9TzOQQaarBTQ"
      },
      "source": [
        "melakukan visualisasi data untuk mempermudah membaca data dari segi bentuk visual sehingga lebih mudah dalam menganalisis data"
      ]
    },
    {
      "cell_type": "code",
      "metadata": {
        "id": "krqQk0x5pO1i",
        "colab": {
          "base_uri": "https://localhost:8080/",
          "height": 625
        },
        "outputId": "d548b05e-1610-463a-9dc7-d14d524c258d"
      },
      "source": [
        "def identifyColumns(dataset,column,scatterPlot=False):\n",
        "\tprint(f\"Summary from column : {column}\")\n",
        "\tprint(f\"Column type : {dataset[column].dtype}\")\n",
        "\tprint(long_string) \n",
        "\tprint(f\"NaN  : {dataset[column].isna().sum()} From {len(dataset[column].values)} Observations\")\n",
        "\tprint(f\"Unique Labels \\n{dataset[column].unique()}\")\n",
        "\tprint(long_string)\n",
        "\tif(len(dataset[column].unique()) > 10):\n",
        "\t\ttop10 = dataset[column].value_counts().head(10)\n",
        "\t\tsns.countplot(dataset[dataset[column].isin(top10.index)][column],label=column)\n",
        "\t\tplt.title(f\"Barplot {column} Top 10\")\n",
        "\t\tplt.show()\n",
        "\telse:\n",
        "\t\tsns.countplot(dataset[column],label=column)\n",
        "\t\tplt.title(f\"Barplot {column}\")\n",
        "\t\tplt.show()\n",
        "\tprint(long_string)\t\n",
        "\tprint(\"Informasi General Dataset ...\")\n",
        "\tprint(df[column].describe())\n",
        "\tprint(long_string)\n",
        "\n",
        "\tif(scatterPlot and dataset[column].dtype != 'object'):\n",
        "\t\tfig = go.Figure()\n",
        "\t\tfig.add_traces(go.Scatter(x = dataset[column],y=np.linspace(0,1,len(dataset[column].values)),mode='markers',name=column))\n",
        "\t\tfig.update_layout(title=f\"Scatter Plot {column}\",xaxis_title=column,\n",
        "\t\tyaxis_title='Range Values',height= 500,width=800)\n",
        "\t\tfig.show()\n",
        "\t\n",
        "\t\t \n",
        "identifyColumns(df, \"transmission\",True)\n",
        "# Apabila liat Unbalanced , Coba buat dataset yang proporsi nya sama , File csv/excel dibedain \n",
        "# Gunakan Stratified CrossValidation"
      ],
      "execution_count": 36,
      "outputs": [
        {
          "output_type": "stream",
          "name": "stdout",
          "text": [
            "Summary from column : transmission\n",
            "Column type : object\n",
            "========================================================================\n",
            "NaN  : 0 From 15157 Observations\n",
            "Unique Labels \n",
            "['Automatic' 'Manual' 'Semi-Auto']\n",
            "========================================================================\n"
          ]
        },
        {
          "output_type": "stream",
          "name": "stderr",
          "text": [
            "/usr/local/lib/python3.7/dist-packages/seaborn/_decorators.py:43: FutureWarning: Pass the following variable as a keyword arg: x. From version 0.12, the only valid positional argument will be `data`, and passing other arguments without an explicit keyword will result in an error or misinterpretation.\n",
            "  FutureWarning\n"
          ]
        },
        {
          "output_type": "display_data",
          "data": {
            "image/png": "[encoded data removed]",
            "text/plain": [
              "<Figure size 432x288 with 1 Axes>"
            ]
          },
          "metadata": {
            "needs_background": "light"
          }
        },
        {
          "output_type": "stream",
          "name": "stdout",
          "text": [
            "========================================================================\n",
            "Informasi General Dataset ...\n",
            "count      15157\n",
            "unique         3\n",
            "top       Manual\n",
            "freq        9417\n",
            "Name: transmission, dtype: object\n",
            "========================================================================\n"
          ]
        }
      ]
    },
    {
      "cell_type": "markdown",
      "metadata": {
        "id": "DNeuzWqnsqav"
      },
      "source": [
        "Insight yang saya dapatkan disini yaitu:\n",
        "* lebih banyak yang menggunakan Manual transmission dibanding menggunakan Semi-Auto dan juga Automatic\n",
        "* pengguna Automatic paling sedikit digunakan\n",
        "* lebih banyak yang menggunakan Semi-Auto ketimbang Automatic"
      ]
    },
    {
      "cell_type": "code",
      "metadata": {
        "colab": {
          "base_uri": "https://localhost:8080/",
          "height": 625
        },
        "id": "9g9rJVvjtaQY",
        "outputId": "b294469a-c93b-443c-95de-94bf2589c098"
      },
      "source": [
        "def identifyColumns(dataset,column,scatterPlot=False):\n",
        "\tprint(f\"Summary from column : {column}\")\n",
        "\tprint(f\"Column type : {dataset[column].dtype}\")\n",
        "\tprint(long_string) \n",
        "\tprint(f\"NaN  : {dataset[column].isna().sum()} From {len(dataset[column].values)} Observations\")\n",
        "\tprint(f\"Unique Labels \\n{dataset[column].unique()}\")\n",
        "\tprint(long_string)\n",
        "\tif(len(dataset[column].unique()) > 10):\n",
        "\t\ttop10 = dataset[column].value_counts().head(10)\n",
        "\t\tsns.countplot(dataset[dataset[column].isin(top10.index)][column],label=column)\n",
        "\t\tplt.title(f\"Barplot {column} Top 10\")\n",
        "\t\tplt.show()\n",
        "\telse:\n",
        "\t\tsns.countplot(dataset[column],label=column)\n",
        "\t\tplt.title(f\"Barplot {column}\")\n",
        "\t\tplt.show()\n",
        "\tprint(long_string)\t\n",
        "\tprint(\"Informasi General Dataset ...\")\n",
        "\tprint(df[column].describe())\n",
        "\tprint(long_string)\n",
        "\n",
        "\tif(scatterPlot and dataset[column].dtype != 'object'):\n",
        "\t\tfig = go.Figure()\n",
        "\t\tfig.add_traces(go.Scatter(x = dataset[column],y=np.linspace(0,1,len(dataset[column].values)),mode='markers',name=column))\n",
        "\t\tfig.update_layout(title=f\"Scatter Plot {column}\",xaxis_title=column,\n",
        "\t\tyaxis_title='Range Values',height= 500,width=800)\n",
        "\t\tfig.show()\n",
        "\t\n",
        "\t\t \n",
        "identifyColumns(df, \"fuelType\",True)\n",
        "# Apabila liat Unbalanced , Coba buat dataset yang proporsi nya sama , File csv/excel dibedain \n",
        "# Gunakan Stratified CrossValidation"
      ],
      "execution_count": 37,
      "outputs": [
        {
          "output_type": "stream",
          "name": "stdout",
          "text": [
            "Summary from column : fuelType\n",
            "Column type : object\n",
            "========================================================================\n",
            "NaN  : 0 From 15157 Observations\n",
            "Unique Labels \n",
            "['Diesel' 'Petrol' 'Other' 'Hybrid']\n",
            "========================================================================\n"
          ]
        },
        {
          "output_type": "stream",
          "name": "stderr",
          "text": [
            "/usr/local/lib/python3.7/dist-packages/seaborn/_decorators.py:43: FutureWarning: Pass the following variable as a keyword arg: x. From version 0.12, the only valid positional argument will be `data`, and passing other arguments without an explicit keyword will result in an error or misinterpretation.\n",
            "  FutureWarning\n"
          ]
        },
        {
          "output_type": "display_data",
          "data": {
            "image/png": "[encoded data removed]",
            "text/plain": [
              "<Figure size 432x288 with 1 Axes>"
            ]
          },
          "metadata": {
            "needs_background": "light"
          }
        },
        {
          "output_type": "stream",
          "name": "stdout",
          "text": [
            "========================================================================\n",
            "Informasi General Dataset ...\n",
            "count      15157\n",
            "unique         4\n",
            "top       Petrol\n",
            "freq        8553\n",
            "Name: fuelType, dtype: object\n",
            "========================================================================\n"
          ]
        }
      ]
    },
    {
      "cell_type": "markdown",
      "metadata": {
        "id": "AerQfhDYtdGS"
      },
      "source": [
        "Insight yang saya dapatkan disini yaitu:\n",
        "* Bensin Petrol yang paling banyak digunakan\n",
        "* Bensin Diesel merupakan yang paling banyak kedua.\n",
        "* yang menggunakan merek bensin lain selain Diesel dan Petrol ataupun Hybrid jarang sekali."
      ]
    },
    {
      "cell_type": "code",
      "metadata": {
        "colab": {
          "base_uri": "https://localhost:8080/"
        },
        "id": "gp0V5kV_vuCV",
        "outputId": "6c5d376b-f06f-4554-daee-70af82c40ef7"
      },
      "source": [
        "df.info()"
      ],
      "execution_count": 38,
      "outputs": [
        {
          "output_type": "stream",
          "name": "stdout",
          "text": [
            "<class 'pandas.core.frame.DataFrame'>\n",
            "RangeIndex: 15157 entries, 0 to 15156\n",
            "Data columns (total 9 columns):\n",
            " #   Column        Non-Null Count  Dtype  \n",
            "---  ------        --------------  -----  \n",
            " 0   model         15157 non-null  object \n",
            " 1   year          15157 non-null  int64  \n",
            " 2   price         15157 non-null  int64  \n",
            " 3   transmission  15157 non-null  object \n",
            " 4   mileage       15157 non-null  int64  \n",
            " 5   fuelType      15157 non-null  object \n",
            " 6   tax           15157 non-null  int64  \n",
            " 7   mpg           15157 non-null  float64\n",
            " 8   engineSize    15157 non-null  float64\n",
            "dtypes: float64(2), int64(4), object(3)\n",
            "memory usage: 1.0+ MB\n"
          ]
        }
      ]
    },
    {
      "cell_type": "code",
      "metadata": {
        "colab": {
          "base_uri": "https://localhost:8080/",
          "height": 206
        },
        "id": "q4Bt2VDbv7F6",
        "outputId": "d03d4ff0-19a7-4e0c-8aa2-d6c1126e194c"
      },
      "source": [
        "df.head()"
      ],
      "execution_count": 39,
      "outputs": [
        {
          "output_type": "execute_result",
          "data": {
            "text/html": [
              "<div>\n",
              "<style scoped>\n",
              "    .dataframe tbody tr th:only-of-type {\n",
              "        vertical-align: middle;\n",
              "    }\n",
              "\n",
              "    .dataframe tbody tr th {\n",
              "        vertical-align: top;\n",
              "    }\n",
              "\n",
              "    .dataframe thead th {\n",
              "        text-align: right;\n",
              "    }\n",
              "</style>\n",
              "<table border=\"1\" class=\"dataframe\">\n",
              "  <thead>\n",
              "    <tr style=\"text-align: right;\">\n",
              "      <th></th>\n",
              "      <th>model</th>\n",
              "      <th>year</th>\n",
              "      <th>price</th>\n",
              "      <th>transmission</th>\n",
              "      <th>mileage</th>\n",
              "      <th>fuelType</th>\n",
              "      <th>tax</th>\n",
              "      <th>mpg</th>\n",
              "      <th>engineSize</th>\n",
              "    </tr>\n",
              "  </thead>\n",
              "  <tbody>\n",
              "    <tr>\n",
              "      <th>0</th>\n",
              "      <td>T-Roc</td>\n",
              "      <td>2019</td>\n",
              "      <td>25000</td>\n",
              "      <td>Automatic</td>\n",
              "      <td>13904</td>\n",
              "      <td>Diesel</td>\n",
              "      <td>145</td>\n",
              "      <td>49.6</td>\n",
              "      <td>2.0</td>\n",
              "    </tr>\n",
              "    <tr>\n",
              "      <th>1</th>\n",
              "      <td>T-Roc</td>\n",
              "      <td>2019</td>\n",
              "      <td>26883</td>\n",
              "      <td>Automatic</td>\n",
              "      <td>4562</td>\n",
              "      <td>Diesel</td>\n",
              "      <td>145</td>\n",
              "      <td>49.6</td>\n",
              "      <td>2.0</td>\n",
              "    </tr>\n",
              "    <tr>\n",
              "      <th>2</th>\n",
              "      <td>T-Roc</td>\n",
              "      <td>2019</td>\n",
              "      <td>20000</td>\n",
              "      <td>Manual</td>\n",
              "      <td>7414</td>\n",
              "      <td>Diesel</td>\n",
              "      <td>145</td>\n",
              "      <td>50.4</td>\n",
              "      <td>2.0</td>\n",
              "    </tr>\n",
              "    <tr>\n",
              "      <th>3</th>\n",
              "      <td>T-Roc</td>\n",
              "      <td>2019</td>\n",
              "      <td>33492</td>\n",
              "      <td>Automatic</td>\n",
              "      <td>4825</td>\n",
              "      <td>Petrol</td>\n",
              "      <td>145</td>\n",
              "      <td>32.5</td>\n",
              "      <td>2.0</td>\n",
              "    </tr>\n",
              "    <tr>\n",
              "      <th>4</th>\n",
              "      <td>T-Roc</td>\n",
              "      <td>2019</td>\n",
              "      <td>22900</td>\n",
              "      <td>Semi-Auto</td>\n",
              "      <td>6500</td>\n",
              "      <td>Petrol</td>\n",
              "      <td>150</td>\n",
              "      <td>39.8</td>\n",
              "      <td>1.5</td>\n",
              "    </tr>\n",
              "  </tbody>\n",
              "</table>\n",
              "</div>"
            ],
            "text/plain": [
              "    model  year  price transmission  mileage fuelType  tax   mpg  engineSize\n",
              "0   T-Roc  2019  25000    Automatic    13904   Diesel  145  49.6         2.0\n",
              "1   T-Roc  2019  26883    Automatic     4562   Diesel  145  49.6         2.0\n",
              "2   T-Roc  2019  20000       Manual     7414   Diesel  145  50.4         2.0\n",
              "3   T-Roc  2019  33492    Automatic     4825   Petrol  145  32.5         2.0\n",
              "4   T-Roc  2019  22900    Semi-Auto     6500   Petrol  150  39.8         1.5"
            ]
          },
          "metadata": {},
          "execution_count": 39
        }
      ]
    },
    {
      "cell_type": "code",
      "metadata": {
        "id": "67042LlGwLmm"
      },
      "source": [
        ""
      ],
      "execution_count": null,
      "outputs": []
    },
    {
      "cell_type": "code",
      "metadata": {
        "colab": {
          "base_uri": "https://localhost:8080/",
          "height": 690
        },
        "id": "TqnkcUnhuK-r",
        "outputId": "e9610bff-7f57-4ac6-fabf-a3ef8e754580"
      },
      "source": [
        "temp=df.groupby('model')['year','price','tax','model'].sum().reset_index()\n",
        "fig=go.Figure(data=[\n",
        "    go.Bar(name='price', x=temp['model'],y=temp['price']),\n",
        "    go.Bar(name='tax', x=temp['model'],y=temp['tax']),\n",
        "])\n",
        "fig.update_layout(\n",
        "width=1000,\n",
        "height=600,\n",
        "barmode='stack',\n",
        "title='Total case over time',\n",
        "font=dict(size=14,color='#686868'),\n",
        "xaxis_tickangle=-45,\n",
        "yaxis=dict(\n",
        "title='Count'))\n",
        "fig.show()"
      ],
      "execution_count": 49,
      "outputs": [
        {
          "output_type": "stream",
          "name": "stderr",
          "text": [
            "/usr/local/lib/python3.7/dist-packages/ipykernel_launcher.py:1: FutureWarning:\n",
            "\n",
            "Indexing with multiple keys (implicitly converted to a tuple of keys) will be deprecated, use a list instead.\n",
            "\n"
          ]
        },
        {
          "output_type": "display_data",
          "data": {
            "text/html": [
              "<html>\n",
              "<head><meta charset=\"utf-8\" /></head>\n",
              "<body>\n",
              "    <div>\n",
              "            <script src=\"https://cdnjs.cloudflare.com/ajax/libs/mathjax/2.7.5/MathJax.js?config=TeX-AMS-MML_SVG\"></script><script type=\"text/javascript\">if (window.MathJax) {MathJax.Hub.Config({SVG: {font: \"STIX-Web\"}});}</script>\n",
              "                <script type=\"text/javascript\">window.PlotlyConfig = {MathJaxConfig: 'local'};</script>\n",
              "        <script src=\"https://cdn.plot.ly/plotly-latest.min.js\"></script>    \n",
              "            <div id=\"f8440bca-2b11-4f7d-aa33-31f3da919759\" class=\"plotly-graph-div\" style=\"height:600px; width:1000px;\"></div>\n",
              "            <script type=\"text/javascript\">\n",
              "                \n",
              "                    window.PLOTLYENV=window.PLOTLYENV || {};\n",
              "                    \n",
              "                if (document.getElementById(\"f8440bca-2b11-4f7d-aa33-31f3da919759\")) {\n",
              "                    Plotly.newPlot(\n",
              "                        'f8440bca-2b11-4f7d-aa33-31f3da919759',\n",
              "                        [{\"name\": \"price\", \"type\": \"bar\", \"x\": [\" Amarok\", \" Arteon\", \" Beetle\", \" CC\", \" Caddy\", \" Caddy Life\", \" Caddy Maxi\", \" Caddy Maxi Life\", \" California\", \" Caravelle\", \" Eos\", \" Fox\", \" Golf\", \" Golf SV\", \" Jetta\", \" Passat\", \" Polo\", \" Scirocco\", \" Sharan\", \" Shuttle\", \" T-Cross\", \" T-Roc\", \" Tiguan\", \" Tiguan Allspace\", \" Touareg\", \" Touran\", \" Up\"], \"y\": [3107056, 6518685, 820176, 1011336, 77064, 139463, 45889, 1127084, 863908, 3971892, 46315, 6934, 81161940, 4256114, 276004, 15266485, 37279289, 3273313, 5738967, 1487677, 5976838, 16741274, 38202984, 2618097, 11936254, 6178949, 7098014]}, {\"name\": \"tax\", \"type\": \"bar\", \"x\": [\" Amarok\", \" Arteon\", \" Beetle\", \" CC\", \" Caddy\", \" Caddy Life\", \" Caddy Maxi\", \" Caddy Maxi Life\", \" California\", \" Caravelle\", \" Eos\", \" Fox\", \" Golf\", \" Golf SV\", \" Jetta\", \" Passat\", \" Polo\", \" Scirocco\", \" Sharan\", \" Shuttle\", \" T-Cross\", \" T-Roc\", \" Tiguan\", \" Tiguan Allspace\", \" Touareg\", \" Touran\", \" Up\"], \"y\": [28935, 36065, 12220, 9005, 1040, 1190, 705, 8695, 3905, 18450, 1235, 640, 493870, 28045, 1720, 86240, 297655, 22875, 38200, 9430, 43675, 106890, 265980, 13300, 66495, 38815, 73590]}],\n",
              "                        {\"barmode\": \"stack\", \"font\": {\"color\": \"#686868\", \"size\": 14}, \"height\": 600, \"template\": {\"data\": {\"bar\": [{\"error_x\": {\"color\": \"#2a3f5f\"}, \"error_y\": {\"color\": \"#2a3f5f\"}, \"marker\": {\"line\": {\"color\": \"#E5ECF6\", \"width\": 0.5}}, \"type\": \"bar\"}], \"barpolar\": [{\"marker\": {\"line\": {\"color\": \"#E5ECF6\", \"width\": 0.5}}, \"type\": \"barpolar\"}], \"carpet\": [{\"aaxis\": {\"endlinecolor\": \"#2a3f5f\", \"gridcolor\": \"white\", \"linecolor\": \"white\", \"minorgridcolor\": \"white\", \"startlinecolor\": \"#2a3f5f\"}, \"baxis\": {\"endlinecolor\": \"#2a3f5f\", \"gridcolor\": \"white\", \"linecolor\": \"white\", \"minorgridcolor\": \"white\", \"startlinecolor\": \"#2a3f5f\"}, \"type\": \"carpet\"}], \"choropleth\": [{\"colorbar\": {\"outlinewidth\": 0, \"ticks\": \"\"}, \"type\": \"choropleth\"}], \"contour\": [{\"colorbar\": {\"outlinewidth\": 0, \"ticks\": \"\"}, \"colorscale\": [[0.0, \"#0d0887\"], [0.1111111111111111, \"#46039f\"], [0.2222222222222222, \"#7201a8\"], [0.3333333333333333, \"#9c179e\"], [0.4444444444444444, \"#bd3786\"], [0.5555555555555556, \"#d8576b\"], [0.6666666666666666, \"#ed7953\"], [0.7777777777777778, \"#fb9f3a\"], [0.8888888888888888, \"#fdca26\"], [1.0, \"#f0f921\"]], \"type\": \"contour\"}], \"contourcarpet\": [{\"colorbar\": {\"outlinewidth\": 0, \"ticks\": \"\"}, \"type\": \"contourcarpet\"}], \"heatmap\": [{\"colorbar\": {\"outlinewidth\": 0, \"ticks\": \"\"}, \"colorscale\": [[0.0, \"#0d0887\"], [0.1111111111111111, \"#46039f\"], [0.2222222222222222, \"#7201a8\"], [0.3333333333333333, \"#9c179e\"], [0.4444444444444444, \"#bd3786\"], [0.5555555555555556, \"#d8576b\"], [0.6666666666666666, \"#ed7953\"], [0.7777777777777778, \"#fb9f3a\"], [0.8888888888888888, \"#fdca26\"], [1.0, \"#f0f921\"]], \"type\": \"heatmap\"}], \"heatmapgl\": [{\"colorbar\": {\"outlinewidth\": 0, \"ticks\": \"\"}, \"colorscale\": [[0.0, \"#0d0887\"], [0.1111111111111111, \"#46039f\"], [0.2222222222222222, \"#7201a8\"], [0.3333333333333333, \"#9c179e\"], [0.4444444444444444, \"#bd3786\"], [0.5555555555555556, \"#d8576b\"], [0.6666666666666666, \"#ed7953\"], [0.7777777777777778, \"#fb9f3a\"], [0.8888888888888888, \"#fdca26\"], [1.0, \"#f0f921\"]], \"type\": \"heatmapgl\"}], \"histogram\": [{\"marker\": {\"colorbar\": {\"outlinewidth\": 0, \"ticks\": \"\"}}, \"type\": \"histogram\"}], \"histogram2d\": [{\"colorbar\": {\"outlinewidth\": 0, \"ticks\": \"\"}, \"colorscale\": [[0.0, \"#0d0887\"], [0.1111111111111111, \"#46039f\"], [0.2222222222222222, \"#7201a8\"], [0.3333333333333333, \"#9c179e\"], [0.4444444444444444, \"#bd3786\"], [0.5555555555555556, \"#d8576b\"], [0.6666666666666666, \"#ed7953\"], [0.7777777777777778, \"#fb9f3a\"], [0.8888888888888888, \"#fdca26\"], [1.0, \"#f0f921\"]], \"type\": \"histogram2d\"}], \"histogram2dcontour\": [{\"colorbar\": {\"outlinewidth\": 0, \"ticks\": \"\"}, \"colorscale\": [[0.0, \"#0d0887\"], [0.1111111111111111, \"#46039f\"], [0.2222222222222222, \"#7201a8\"], [0.3333333333333333, \"#9c179e\"], [0.4444444444444444, \"#bd3786\"], [0.5555555555555556, \"#d8576b\"], [0.6666666666666666, \"#ed7953\"], [0.7777777777777778, \"#fb9f3a\"], [0.8888888888888888, \"#fdca26\"], [1.0, \"#f0f921\"]], \"type\": \"histogram2dcontour\"}], \"mesh3d\": [{\"colorbar\": {\"outlinewidth\": 0, \"ticks\": \"\"}, \"type\": \"mesh3d\"}], \"parcoords\": [{\"line\": {\"colorbar\": {\"outlinewidth\": 0, \"ticks\": \"\"}}, \"type\": \"parcoords\"}], \"pie\": [{\"automargin\": true, \"type\": \"pie\"}], \"scatter\": [{\"marker\": {\"colorbar\": {\"outlinewidth\": 0, \"ticks\": \"\"}}, \"type\": \"scatter\"}], \"scatter3d\": [{\"line\": {\"colorbar\": {\"outlinewidth\": 0, \"ticks\": \"\"}}, \"marker\": {\"colorbar\": {\"outlinewidth\": 0, \"ticks\": \"\"}}, \"type\": \"scatter3d\"}], \"scattercarpet\": [{\"marker\": {\"colorbar\": {\"outlinewidth\": 0, \"ticks\": \"\"}}, \"type\": \"scattercarpet\"}], \"scattergeo\": [{\"marker\": {\"colorbar\": {\"outlinewidth\": 0, \"ticks\": \"\"}}, \"type\": \"scattergeo\"}], \"scattergl\": [{\"marker\": {\"colorbar\": {\"outlinewidth\": 0, \"ticks\": \"\"}}, \"type\": \"scattergl\"}], \"scattermapbox\": [{\"marker\": {\"colorbar\": {\"outlinewidth\": 0, \"ticks\": \"\"}}, \"type\": \"scattermapbox\"}], \"scatterpolar\": [{\"marker\": {\"colorbar\": {\"outlinewidth\": 0, \"ticks\": \"\"}}, \"type\": \"scatterpolar\"}], \"scatterpolargl\": [{\"marker\": {\"colorbar\": {\"outlinewidth\": 0, \"ticks\": \"\"}}, \"type\": \"scatterpolargl\"}], \"scatterternary\": [{\"marker\": {\"colorbar\": {\"outlinewidth\": 0, \"ticks\": \"\"}}, \"type\": \"scatterternary\"}], \"surface\": [{\"colorbar\": {\"outlinewidth\": 0, \"ticks\": \"\"}, \"colorscale\": [[0.0, \"#0d0887\"], [0.1111111111111111, \"#46039f\"], [0.2222222222222222, \"#7201a8\"], [0.3333333333333333, \"#9c179e\"], [0.4444444444444444, \"#bd3786\"], [0.5555555555555556, \"#d8576b\"], [0.6666666666666666, \"#ed7953\"], [0.7777777777777778, \"#fb9f3a\"], [0.8888888888888888, \"#fdca26\"], [1.0, \"#f0f921\"]], \"type\": \"surface\"}], \"table\": [{\"cells\": {\"fill\": {\"color\": \"#EBF0F8\"}, \"line\": {\"color\": \"white\"}}, \"header\": {\"fill\": {\"color\": \"#C8D4E3\"}, \"line\": {\"color\": \"white\"}}, \"type\": \"table\"}]}, \"layout\": {\"annotationdefaults\": {\"arrowcolor\": \"#2a3f5f\", \"arrowhead\": 0, \"arrowwidth\": 1}, \"coloraxis\": {\"colorbar\": {\"outlinewidth\": 0, \"ticks\": \"\"}}, \"colorscale\": {\"diverging\": [[0, \"#8e0152\"], [0.1, \"#c51b7d\"], [0.2, \"#de77ae\"], [0.3, \"#f1b6da\"], [0.4, \"#fde0ef\"], [0.5, \"#f7f7f7\"], [0.6, \"#e6f5d0\"], [0.7, \"#b8e186\"], [0.8, \"#7fbc41\"], [0.9, \"#4d9221\"], [1, \"#276419\"]], \"sequential\": [[0.0, \"#0d0887\"], [0.1111111111111111, \"#46039f\"], [0.2222222222222222, \"#7201a8\"], [0.3333333333333333, \"#9c179e\"], [0.4444444444444444, \"#bd3786\"], [0.5555555555555556, \"#d8576b\"], [0.6666666666666666, \"#ed7953\"], [0.7777777777777778, \"#fb9f3a\"], [0.8888888888888888, \"#fdca26\"], [1.0, \"#f0f921\"]], \"sequentialminus\": [[0.0, \"#0d0887\"], [0.1111111111111111, \"#46039f\"], [0.2222222222222222, \"#7201a8\"], [0.3333333333333333, \"#9c179e\"], [0.4444444444444444, \"#bd3786\"], [0.5555555555555556, \"#d8576b\"], [0.6666666666666666, \"#ed7953\"], [0.7777777777777778, \"#fb9f3a\"], [0.8888888888888888, \"#fdca26\"], [1.0, \"#f0f921\"]]}, \"colorway\": [\"#636efa\", \"#EF553B\", \"#00cc96\", \"#ab63fa\", \"#FFA15A\", \"#19d3f3\", \"#FF6692\", \"#B6E880\", \"#FF97FF\", \"#FECB52\"], \"font\": {\"color\": \"#2a3f5f\"}, \"geo\": {\"bgcolor\": \"white\", \"lakecolor\": \"white\", \"landcolor\": \"#E5ECF6\", \"showlakes\": true, \"showland\": true, \"subunitcolor\": \"white\"}, \"hoverlabel\": {\"align\": \"left\"}, \"hovermode\": \"closest\", \"mapbox\": {\"style\": \"light\"}, \"paper_bgcolor\": \"white\", \"plot_bgcolor\": \"#E5ECF6\", \"polar\": {\"angularaxis\": {\"gridcolor\": \"white\", \"linecolor\": \"white\", \"ticks\": \"\"}, \"bgcolor\": \"#E5ECF6\", \"radialaxis\": {\"gridcolor\": \"white\", \"linecolor\": \"white\", \"ticks\": \"\"}}, \"scene\": {\"xaxis\": {\"backgroundcolor\": \"#E5ECF6\", \"gridcolor\": \"white\", \"gridwidth\": 2, \"linecolor\": \"white\", \"showbackground\": true, \"ticks\": \"\", \"zerolinecolor\": \"white\"}, \"yaxis\": {\"backgroundcolor\": \"#E5ECF6\", \"gridcolor\": \"white\", \"gridwidth\": 2, \"linecolor\": \"white\", \"showbackground\": true, \"ticks\": \"\", \"zerolinecolor\": \"white\"}, \"zaxis\": {\"backgroundcolor\": \"#E5ECF6\", \"gridcolor\": \"white\", \"gridwidth\": 2, \"linecolor\": \"white\", \"showbackground\": true, \"ticks\": \"\", \"zerolinecolor\": \"white\"}}, \"shapedefaults\": {\"line\": {\"color\": \"#2a3f5f\"}}, \"ternary\": {\"aaxis\": {\"gridcolor\": \"white\", \"linecolor\": \"white\", \"ticks\": \"\"}, \"baxis\": {\"gridcolor\": \"white\", \"linecolor\": \"white\", \"ticks\": \"\"}, \"bgcolor\": \"#E5ECF6\", \"caxis\": {\"gridcolor\": \"white\", \"linecolor\": \"white\", \"ticks\": \"\"}}, \"title\": {\"x\": 0.05}, \"xaxis\": {\"automargin\": true, \"gridcolor\": \"white\", \"linecolor\": \"white\", \"ticks\": \"\", \"title\": {\"standoff\": 15}, \"zerolinecolor\": \"white\", \"zerolinewidth\": 2}, \"yaxis\": {\"automargin\": true, \"gridcolor\": \"white\", \"linecolor\": \"white\", \"ticks\": \"\", \"title\": {\"standoff\": 15}, \"zerolinecolor\": \"white\", \"zerolinewidth\": 2}}}, \"title\": {\"text\": \"Total case over time\"}, \"width\": 1000, \"xaxis\": {\"tickangle\": -45}, \"yaxis\": {\"title\": {\"text\": \"Count\"}}},\n",
              "                        {\"responsive\": true}\n",
              "                    ).then(function(){\n",
              "                            \n",
              "var gd = document.getElementById('f8440bca-2b11-4f7d-aa33-31f3da919759');\n",
              "var x = new MutationObserver(function (mutations, observer) {{\n",
              "        var display = window.getComputedStyle(gd).display;\n",
              "        if (!display || display === 'none') {{\n",
              "            console.log([gd, 'removed!']);\n",
              "            Plotly.purge(gd);\n",
              "            observer.disconnect();\n",
              "        }}\n",
              "}});\n",
              "\n",
              "// Listen for the removal of the full notebook cells\n",
              "var notebookContainer = gd.closest('#notebook-container');\n",
              "if (notebookContainer) {{\n",
              "    x.observe(notebookContainer, {childList: true});\n",
              "}}\n",
              "\n",
              "// Listen for the clearing of the current output cell\n",
              "var outputEl = gd.closest('.output');\n",
              "if (outputEl) {{\n",
              "    x.observe(outputEl, {childList: true});\n",
              "}}\n",
              "\n",
              "                        })\n",
              "                };\n",
              "                \n",
              "            </script>\n",
              "        </div>\n",
              "</body>\n",
              "</html>"
            ]
          },
          "metadata": {}
        }
      ]
    },
    {
      "cell_type": "markdown",
      "metadata": {
        "id": "hqaRH7HGxb1K"
      },
      "source": [
        "Top 3 Mobil Golf, Tiguan dan juga Polo merupakan mobil yang sering digunakan pada kumpulan data dari semua mobil di VW"
      ]
    },
    {
      "cell_type": "code",
      "metadata": {
        "colab": {
          "base_uri": "https://localhost:8080/",
          "height": 352
        },
        "id": "RZh5GYgowKg7",
        "outputId": "ea3943ba-72a6-4001-ed59-72cbc3fc9854"
      },
      "source": [
        "plt.figure(figsize=(15,5),facecolor='w') \n",
        "sns.barplot(x = df[\"year\"], y = df[\"price\"])"
      ],
      "execution_count": 52,
      "outputs": [
        {
          "output_type": "execute_result",
          "data": {
            "text/plain": [
              "<matplotlib.axes._subplots.AxesSubplot at 0x7f7fef6d4910>"
            ]
          },
          "metadata": {},
          "execution_count": 52
        },
        {
          "output_type": "display_data",
          "data": {
            "image/png": "[encoded data removed]",
            "text/plain": [
              "<Figure size 1080x360 with 1 Axes>"
            ]
          },
          "metadata": {}
        }
      ]
    },
    {
      "cell_type": "code",
      "metadata": {
        "colab": {
          "base_uri": "https://localhost:8080/",
          "height": 206
        },
        "id": "rqh2JekezcRs",
        "outputId": "c94966c4-63ed-4f3c-a8b2-83a011bfa238"
      },
      "source": [
        "df.head()"
      ],
      "execution_count": 56,
      "outputs": [
        {
          "output_type": "execute_result",
          "data": {
            "text/html": [
              "<div>\n",
              "<style scoped>\n",
              "    .dataframe tbody tr th:only-of-type {\n",
              "        vertical-align: middle;\n",
              "    }\n",
              "\n",
              "    .dataframe tbody tr th {\n",
              "        vertical-align: top;\n",
              "    }\n",
              "\n",
              "    .dataframe thead th {\n",
              "        text-align: right;\n",
              "    }\n",
              "</style>\n",
              "<table border=\"1\" class=\"dataframe\">\n",
              "  <thead>\n",
              "    <tr style=\"text-align: right;\">\n",
              "      <th></th>\n",
              "      <th>model</th>\n",
              "      <th>year</th>\n",
              "      <th>price</th>\n",
              "      <th>transmission</th>\n",
              "      <th>mileage</th>\n",
              "      <th>fuelType</th>\n",
              "      <th>tax</th>\n",
              "      <th>mpg</th>\n",
              "      <th>engineSize</th>\n",
              "    </tr>\n",
              "  </thead>\n",
              "  <tbody>\n",
              "    <tr>\n",
              "      <th>0</th>\n",
              "      <td>T-Roc</td>\n",
              "      <td>2019</td>\n",
              "      <td>25000</td>\n",
              "      <td>Automatic</td>\n",
              "      <td>13904</td>\n",
              "      <td>Diesel</td>\n",
              "      <td>145</td>\n",
              "      <td>49.6</td>\n",
              "      <td>2.0</td>\n",
              "    </tr>\n",
              "    <tr>\n",
              "      <th>1</th>\n",
              "      <td>T-Roc</td>\n",
              "      <td>2019</td>\n",
              "      <td>26883</td>\n",
              "      <td>Automatic</td>\n",
              "      <td>4562</td>\n",
              "      <td>Diesel</td>\n",
              "      <td>145</td>\n",
              "      <td>49.6</td>\n",
              "      <td>2.0</td>\n",
              "    </tr>\n",
              "    <tr>\n",
              "      <th>2</th>\n",
              "      <td>T-Roc</td>\n",
              "      <td>2019</td>\n",
              "      <td>20000</td>\n",
              "      <td>Manual</td>\n",
              "      <td>7414</td>\n",
              "      <td>Diesel</td>\n",
              "      <td>145</td>\n",
              "      <td>50.4</td>\n",
              "      <td>2.0</td>\n",
              "    </tr>\n",
              "    <tr>\n",
              "      <th>3</th>\n",
              "      <td>T-Roc</td>\n",
              "      <td>2019</td>\n",
              "      <td>33492</td>\n",
              "      <td>Automatic</td>\n",
              "      <td>4825</td>\n",
              "      <td>Petrol</td>\n",
              "      <td>145</td>\n",
              "      <td>32.5</td>\n",
              "      <td>2.0</td>\n",
              "    </tr>\n",
              "    <tr>\n",
              "      <th>4</th>\n",
              "      <td>T-Roc</td>\n",
              "      <td>2019</td>\n",
              "      <td>22900</td>\n",
              "      <td>Semi-Auto</td>\n",
              "      <td>6500</td>\n",
              "      <td>Petrol</td>\n",
              "      <td>150</td>\n",
              "      <td>39.8</td>\n",
              "      <td>1.5</td>\n",
              "    </tr>\n",
              "  </tbody>\n",
              "</table>\n",
              "</div>"
            ],
            "text/plain": [
              "    model  year  price transmission  mileage fuelType  tax   mpg  engineSize\n",
              "0   T-Roc  2019  25000    Automatic    13904   Diesel  145  49.6         2.0\n",
              "1   T-Roc  2019  26883    Automatic     4562   Diesel  145  49.6         2.0\n",
              "2   T-Roc  2019  20000       Manual     7414   Diesel  145  50.4         2.0\n",
              "3   T-Roc  2019  33492    Automatic     4825   Petrol  145  32.5         2.0\n",
              "4   T-Roc  2019  22900    Semi-Auto     6500   Petrol  150  39.8         1.5"
            ]
          },
          "metadata": {},
          "execution_count": 56
        }
      ]
    },
    {
      "cell_type": "markdown",
      "metadata": {
        "id": "Vv5aHFOdy94C"
      },
      "source": [
        "jika dilihat pada tahun 2019 dan 2020 merupakan tahun yang dimana jumlah pembeli mobil VW terbanyak"
      ]
    },
    {
      "cell_type": "code",
      "metadata": {
        "colab": {
          "base_uri": "https://localhost:8080/",
          "height": 198
        },
        "id": "ok7PQLZzyBqo",
        "outputId": "4264951b-c000-444a-d4d3-5675ba98f709"
      },
      "source": [
        "sns.pairplot(df,x_vars=['model','year','transmission','mileage','fuelType','tax','mpg','engineSize'],y_vars=['price'])"
      ],
      "execution_count": 62,
      "outputs": [
        {
          "output_type": "execute_result",
          "data": {
            "text/plain": [
              "<seaborn.axisgrid.PairGrid at 0x7f7fe138b310>"
            ]
          },
          "metadata": {},
          "execution_count": 62
        },
        {
          "output_type": "display_data",
          "data": {
            "image/png": "[encoded data removed]",
            "text/plain": [
              "<Figure size 1440x180 with 8 Axes>"
            ]
          },
          "metadata": {
            "needs_background": "light"
          }
        }
      ]
    },
    {
      "cell_type": "markdown",
      "metadata": {
        "id": "8Fua4uQ7z13e"
      },
      "source": [
        "disini saya menggunakan pairplot untuk melihat grafik mana yang memiliki kesamaan sehingga akan mempermudah untuk melakukan prediksi"
      ]
    },
    {
      "cell_type": "code",
      "metadata": {
        "id": "umg99vHDzmLh"
      },
      "source": [
        ""
      ],
      "execution_count": null,
      "outputs": []
    },
    {
      "cell_type": "markdown",
      "metadata": {
        "id": "O7Z-fq_G0KRc"
      },
      "source": [
        "# Feature Engineering"
      ]
    },
    {
      "cell_type": "markdown",
      "metadata": {
        "id": "9hSB4P_X0NJ6"
      },
      "source": [
        "disini saya akan melakukan feature engineering untuk melihat apakah ada data yang dapat dibuat fitur baru sehingga akan memberikan kualitas data yang baik untuk melakukan prediksi"
      ]
    },
    {
      "cell_type": "code",
      "metadata": {
        "colab": {
          "base_uri": "https://localhost:8080/",
          "height": 423
        },
        "id": "Qbw8-DnS0McM",
        "outputId": "769bde57-7396-4242-9a76-77397a554881"
      },
      "source": [
        "df['age_car']=2020-df['year']\n",
        "df"
      ],
      "execution_count": 65,
      "outputs": [
        {
          "output_type": "execute_result",
          "data": {
            "text/html": [
              "<div>\n",
              "<style scoped>\n",
              "    .dataframe tbody tr th:only-of-type {\n",
              "        vertical-align: middle;\n",
              "    }\n",
              "\n",
              "    .dataframe tbody tr th {\n",
              "        vertical-align: top;\n",
              "    }\n",
              "\n",
              "    .dataframe thead th {\n",
              "        text-align: right;\n",
              "    }\n",
              "</style>\n",
              "<table border=\"1\" class=\"dataframe\">\n",
              "  <thead>\n",
              "    <tr style=\"text-align: right;\">\n",
              "      <th></th>\n",
              "      <th>model</th>\n",
              "      <th>year</th>\n",
              "      <th>price</th>\n",
              "      <th>transmission</th>\n",
              "      <th>mileage</th>\n",
              "      <th>fuelType</th>\n",
              "      <th>tax</th>\n",
              "      <th>mpg</th>\n",
              "      <th>engineSize</th>\n",
              "      <th>age_car</th>\n",
              "    </tr>\n",
              "  </thead>\n",
              "  <tbody>\n",
              "    <tr>\n",
              "      <th>0</th>\n",
              "      <td>T-Roc</td>\n",
              "      <td>2019</td>\n",
              "      <td>25000</td>\n",
              "      <td>Automatic</td>\n",
              "      <td>13904</td>\n",
              "      <td>Diesel</td>\n",
              "      <td>145</td>\n",
              "      <td>49.6</td>\n",
              "      <td>2.0</td>\n",
              "      <td>1</td>\n",
              "    </tr>\n",
              "    <tr>\n",
              "      <th>1</th>\n",
              "      <td>T-Roc</td>\n",
              "      <td>2019</td>\n",
              "      <td>26883</td>\n",
              "      <td>Automatic</td>\n",
              "      <td>4562</td>\n",
              "      <td>Diesel</td>\n",
              "      <td>145</td>\n",
              "      <td>49.6</td>\n",
              "      <td>2.0</td>\n",
              "      <td>1</td>\n",
              "    </tr>\n",
              "    <tr>\n",
              "      <th>2</th>\n",
              "      <td>T-Roc</td>\n",
              "      <td>2019</td>\n",
              "      <td>20000</td>\n",
              "      <td>Manual</td>\n",
              "      <td>7414</td>\n",
              "      <td>Diesel</td>\n",
              "      <td>145</td>\n",
              "      <td>50.4</td>\n",
              "      <td>2.0</td>\n",
              "      <td>1</td>\n",
              "    </tr>\n",
              "    <tr>\n",
              "      <th>3</th>\n",
              "      <td>T-Roc</td>\n",
              "      <td>2019</td>\n",
              "      <td>33492</td>\n",
              "      <td>Automatic</td>\n",
              "      <td>4825</td>\n",
              "      <td>Petrol</td>\n",
              "      <td>145</td>\n",
              "      <td>32.5</td>\n",
              "      <td>2.0</td>\n",
              "      <td>1</td>\n",
              "    </tr>\n",
              "    <tr>\n",
              "      <th>4</th>\n",
              "      <td>T-Roc</td>\n",
              "      <td>2019</td>\n",
              "      <td>22900</td>\n",
              "      <td>Semi-Auto</td>\n",
              "      <td>6500</td>\n",
              "      <td>Petrol</td>\n",
              "      <td>150</td>\n",
              "      <td>39.8</td>\n",
              "      <td>1.5</td>\n",
              "      <td>1</td>\n",
              "    </tr>\n",
              "    <tr>\n",
              "      <th>...</th>\n",
              "      <td>...</td>\n",
              "      <td>...</td>\n",
              "      <td>...</td>\n",
              "      <td>...</td>\n",
              "      <td>...</td>\n",
              "      <td>...</td>\n",
              "      <td>...</td>\n",
              "      <td>...</td>\n",
              "      <td>...</td>\n",
              "      <td>...</td>\n",
              "    </tr>\n",
              "    <tr>\n",
              "      <th>15152</th>\n",
              "      <td>Eos</td>\n",
              "      <td>2012</td>\n",
              "      <td>5990</td>\n",
              "      <td>Manual</td>\n",
              "      <td>74000</td>\n",
              "      <td>Diesel</td>\n",
              "      <td>125</td>\n",
              "      <td>58.9</td>\n",
              "      <td>2.0</td>\n",
              "      <td>8</td>\n",
              "    </tr>\n",
              "    <tr>\n",
              "      <th>15153</th>\n",
              "      <td>Fox</td>\n",
              "      <td>2008</td>\n",
              "      <td>1799</td>\n",
              "      <td>Manual</td>\n",
              "      <td>88102</td>\n",
              "      <td>Petrol</td>\n",
              "      <td>145</td>\n",
              "      <td>46.3</td>\n",
              "      <td>1.2</td>\n",
              "      <td>12</td>\n",
              "    </tr>\n",
              "    <tr>\n",
              "      <th>15154</th>\n",
              "      <td>Fox</td>\n",
              "      <td>2009</td>\n",
              "      <td>1590</td>\n",
              "      <td>Manual</td>\n",
              "      <td>70000</td>\n",
              "      <td>Petrol</td>\n",
              "      <td>200</td>\n",
              "      <td>42.0</td>\n",
              "      <td>1.4</td>\n",
              "      <td>11</td>\n",
              "    </tr>\n",
              "    <tr>\n",
              "      <th>15155</th>\n",
              "      <td>Fox</td>\n",
              "      <td>2006</td>\n",
              "      <td>1250</td>\n",
              "      <td>Manual</td>\n",
              "      <td>82704</td>\n",
              "      <td>Petrol</td>\n",
              "      <td>150</td>\n",
              "      <td>46.3</td>\n",
              "      <td>1.2</td>\n",
              "      <td>14</td>\n",
              "    </tr>\n",
              "    <tr>\n",
              "      <th>15156</th>\n",
              "      <td>Fox</td>\n",
              "      <td>2007</td>\n",
              "      <td>2295</td>\n",
              "      <td>Manual</td>\n",
              "      <td>74000</td>\n",
              "      <td>Petrol</td>\n",
              "      <td>145</td>\n",
              "      <td>46.3</td>\n",
              "      <td>1.2</td>\n",
              "      <td>13</td>\n",
              "    </tr>\n",
              "  </tbody>\n",
              "</table>\n",
              "<p>15157 rows × 10 columns</p>\n",
              "</div>"
            ],
            "text/plain": [
              "        model  year  price transmission  mileage fuelType  tax   mpg  \\\n",
              "0       T-Roc  2019  25000    Automatic    13904   Diesel  145  49.6   \n",
              "1       T-Roc  2019  26883    Automatic     4562   Diesel  145  49.6   \n",
              "2       T-Roc  2019  20000       Manual     7414   Diesel  145  50.4   \n",
              "3       T-Roc  2019  33492    Automatic     4825   Petrol  145  32.5   \n",
              "4       T-Roc  2019  22900    Semi-Auto     6500   Petrol  150  39.8   \n",
              "...       ...   ...    ...          ...      ...      ...  ...   ...   \n",
              "15152     Eos  2012   5990       Manual    74000   Diesel  125  58.9   \n",
              "15153     Fox  2008   1799       Manual    88102   Petrol  145  46.3   \n",
              "15154     Fox  2009   1590       Manual    70000   Petrol  200  42.0   \n",
              "15155     Fox  2006   1250       Manual    82704   Petrol  150  46.3   \n",
              "15156     Fox  2007   2295       Manual    74000   Petrol  145  46.3   \n",
              "\n",
              "       engineSize  age_car  \n",
              "0             2.0        1  \n",
              "1             2.0        1  \n",
              "2             2.0        1  \n",
              "3             2.0        1  \n",
              "4             1.5        1  \n",
              "...           ...      ...  \n",
              "15152         2.0        8  \n",
              "15153         1.2       12  \n",
              "15154         1.4       11  \n",
              "15155         1.2       14  \n",
              "15156         1.2       13  \n",
              "\n",
              "[15157 rows x 10 columns]"
            ]
          },
          "metadata": {},
          "execution_count": 65
        }
      ]
    },
    {
      "cell_type": "code",
      "metadata": {
        "colab": {
          "base_uri": "https://localhost:8080/",
          "height": 206
        },
        "id": "Ey2z2rSp0npe",
        "outputId": "bbb73432-4659-463b-c7b4-8fecfb5be404"
      },
      "source": [
        "df=df.drop(columns=['year'])\n",
        "df.head()"
      ],
      "execution_count": 66,
      "outputs": [
        {
          "output_type": "execute_result",
          "data": {
            "text/html": [
              "<div>\n",
              "<style scoped>\n",
              "    .dataframe tbody tr th:only-of-type {\n",
              "        vertical-align: middle;\n",
              "    }\n",
              "\n",
              "    .dataframe tbody tr th {\n",
              "        vertical-align: top;\n",
              "    }\n",
              "\n",
              "    .dataframe thead th {\n",
              "        text-align: right;\n",
              "    }\n",
              "</style>\n",
              "<table border=\"1\" class=\"dataframe\">\n",
              "  <thead>\n",
              "    <tr style=\"text-align: right;\">\n",
              "      <th></th>\n",
              "      <th>model</th>\n",
              "      <th>price</th>\n",
              "      <th>transmission</th>\n",
              "      <th>mileage</th>\n",
              "      <th>fuelType</th>\n",
              "      <th>tax</th>\n",
              "      <th>mpg</th>\n",
              "      <th>engineSize</th>\n",
              "      <th>age_car</th>\n",
              "    </tr>\n",
              "  </thead>\n",
              "  <tbody>\n",
              "    <tr>\n",
              "      <th>0</th>\n",
              "      <td>T-Roc</td>\n",
              "      <td>25000</td>\n",
              "      <td>Automatic</td>\n",
              "      <td>13904</td>\n",
              "      <td>Diesel</td>\n",
              "      <td>145</td>\n",
              "      <td>49.6</td>\n",
              "      <td>2.0</td>\n",
              "      <td>1</td>\n",
              "    </tr>\n",
              "    <tr>\n",
              "      <th>1</th>\n",
              "      <td>T-Roc</td>\n",
              "      <td>26883</td>\n",
              "      <td>Automatic</td>\n",
              "      <td>4562</td>\n",
              "      <td>Diesel</td>\n",
              "      <td>145</td>\n",
              "      <td>49.6</td>\n",
              "      <td>2.0</td>\n",
              "      <td>1</td>\n",
              "    </tr>\n",
              "    <tr>\n",
              "      <th>2</th>\n",
              "      <td>T-Roc</td>\n",
              "      <td>20000</td>\n",
              "      <td>Manual</td>\n",
              "      <td>7414</td>\n",
              "      <td>Diesel</td>\n",
              "      <td>145</td>\n",
              "      <td>50.4</td>\n",
              "      <td>2.0</td>\n",
              "      <td>1</td>\n",
              "    </tr>\n",
              "    <tr>\n",
              "      <th>3</th>\n",
              "      <td>T-Roc</td>\n",
              "      <td>33492</td>\n",
              "      <td>Automatic</td>\n",
              "      <td>4825</td>\n",
              "      <td>Petrol</td>\n",
              "      <td>145</td>\n",
              "      <td>32.5</td>\n",
              "      <td>2.0</td>\n",
              "      <td>1</td>\n",
              "    </tr>\n",
              "    <tr>\n",
              "      <th>4</th>\n",
              "      <td>T-Roc</td>\n",
              "      <td>22900</td>\n",
              "      <td>Semi-Auto</td>\n",
              "      <td>6500</td>\n",
              "      <td>Petrol</td>\n",
              "      <td>150</td>\n",
              "      <td>39.8</td>\n",
              "      <td>1.5</td>\n",
              "      <td>1</td>\n",
              "    </tr>\n",
              "  </tbody>\n",
              "</table>\n",
              "</div>"
            ],
            "text/plain": [
              "    model  price transmission  mileage fuelType  tax   mpg  engineSize  \\\n",
              "0   T-Roc  25000    Automatic    13904   Diesel  145  49.6         2.0   \n",
              "1   T-Roc  26883    Automatic     4562   Diesel  145  49.6         2.0   \n",
              "2   T-Roc  20000       Manual     7414   Diesel  145  50.4         2.0   \n",
              "3   T-Roc  33492    Automatic     4825   Petrol  145  32.5         2.0   \n",
              "4   T-Roc  22900    Semi-Auto     6500   Petrol  150  39.8         1.5   \n",
              "\n",
              "   age_car  \n",
              "0        1  \n",
              "1        1  \n",
              "2        1  \n",
              "3        1  \n",
              "4        1  "
            ]
          },
          "metadata": {},
          "execution_count": 66
        }
      ]
    },
    {
      "cell_type": "markdown",
      "metadata": {
        "id": "yLz2Uk3O076l"
      },
      "source": [
        "disini saya mendrop kolom 'year' karena menurut saya jika memakai kolom year akan memberikan efek pada data sehingga membuat kualitas data tersebut tidak sempurna karena dalam bentuk tahun sehingga dengan membuat fitur baru menjadi Age_car akan mempermudah dalam preprocessing dan memberikan kualitas data yang baik juga"
      ]
    },
    {
      "cell_type": "markdown",
      "metadata": {
        "id": "GxjBTVigBT4Z"
      },
      "source": [
        "# Data Preprocessing"
      ]
    },
    {
      "cell_type": "markdown",
      "metadata": {
        "id": "p4DMG6vbBYLo"
      },
      "source": [
        "disini saya akan melakukan data preprocessing sehingga data tersebut dapat di training dan akan menghasilkan hasil prediksi yang baik karena banyak sekali data yang harus diolah seperti pada kolom model yang dimana tipe datanya object atau string sehingga perlu diubah ke integer atau ke angka 0 dan 1 agar dapat diprediksi tanpa mendrop kolom tersebut."
      ]
    },
    {
      "cell_type": "code",
      "metadata": {
        "id": "lngLUz54B7RA"
      },
      "source": [
        "from sklearn.preprocessing import StandardScaler\n",
        "from sklearn.model_selection import train_test_split\n",
        "from sklearn.linear_model import LinearRegression"
      ],
      "execution_count": 72,
      "outputs": []
    },
    {
      "cell_type": "code",
      "metadata": {
        "colab": {
          "base_uri": "https://localhost:8080/",
          "height": 278
        },
        "id": "TiJrfhG906xY",
        "outputId": "97837f6d-fbc2-4b8b-d570-8ec52186092d"
      },
      "source": [
        "df_new=pd.get_dummies(df,columns=['model','transmission','fuelType'])\n",
        "df_new.head()"
      ],
      "execution_count": 70,
      "outputs": [
        {
          "output_type": "execute_result",
          "data": {
            "text/html": [
              "<div>\n",
              "<style scoped>\n",
              "    .dataframe tbody tr th:only-of-type {\n",
              "        vertical-align: middle;\n",
              "    }\n",
              "\n",
              "    .dataframe tbody tr th {\n",
              "        vertical-align: top;\n",
              "    }\n",
              "\n",
              "    .dataframe thead th {\n",
              "        text-align: right;\n",
              "    }\n",
              "</style>\n",
              "<table border=\"1\" class=\"dataframe\">\n",
              "  <thead>\n",
              "    <tr style=\"text-align: right;\">\n",
              "      <th></th>\n",
              "      <th>price</th>\n",
              "      <th>mileage</th>\n",
              "      <th>tax</th>\n",
              "      <th>mpg</th>\n",
              "      <th>engineSize</th>\n",
              "      <th>age_car</th>\n",
              "      <th>model_ Amarok</th>\n",
              "      <th>model_ Arteon</th>\n",
              "      <th>model_ Beetle</th>\n",
              "      <th>model_ CC</th>\n",
              "      <th>model_ Caddy</th>\n",
              "      <th>model_ Caddy Life</th>\n",
              "      <th>model_ Caddy Maxi</th>\n",
              "      <th>model_ Caddy Maxi Life</th>\n",
              "      <th>model_ California</th>\n",
              "      <th>model_ Caravelle</th>\n",
              "      <th>model_ Eos</th>\n",
              "      <th>model_ Fox</th>\n",
              "      <th>model_ Golf</th>\n",
              "      <th>model_ Golf SV</th>\n",
              "      <th>model_ Jetta</th>\n",
              "      <th>model_ Passat</th>\n",
              "      <th>model_ Polo</th>\n",
              "      <th>model_ Scirocco</th>\n",
              "      <th>model_ Sharan</th>\n",
              "      <th>model_ Shuttle</th>\n",
              "      <th>model_ T-Cross</th>\n",
              "      <th>model_ T-Roc</th>\n",
              "      <th>model_ Tiguan</th>\n",
              "      <th>model_ Tiguan Allspace</th>\n",
              "      <th>model_ Touareg</th>\n",
              "      <th>model_ Touran</th>\n",
              "      <th>model_ Up</th>\n",
              "      <th>transmission_Automatic</th>\n",
              "      <th>transmission_Manual</th>\n",
              "      <th>transmission_Semi-Auto</th>\n",
              "      <th>fuelType_Diesel</th>\n",
              "      <th>fuelType_Hybrid</th>\n",
              "      <th>fuelType_Other</th>\n",
              "      <th>fuelType_Petrol</th>\n",
              "    </tr>\n",
              "  </thead>\n",
              "  <tbody>\n",
              "    <tr>\n",
              "      <th>0</th>\n",
              "      <td>25000</td>\n",
              "      <td>13904</td>\n",
              "      <td>145</td>\n",
              "      <td>49.6</td>\n",
              "      <td>2.0</td>\n",
              "      <td>1</td>\n",
              "      <td>0</td>\n",
              "      <td>0</td>\n",
              "      <td>0</td>\n",
              "      <td>0</td>\n",
              "      <td>0</td>\n",
              "      <td>0</td>\n",
              "      <td>0</td>\n",
              "      <td>0</td>\n",
              "      <td>0</td>\n",
              "      <td>0</td>\n",
              "      <td>0</td>\n",
              "      <td>0</td>\n",
              "      <td>0</td>\n",
              "      <td>0</td>\n",
              "      <td>0</td>\n",
              "      <td>0</td>\n",
              "      <td>0</td>\n",
              "      <td>0</td>\n",
              "      <td>0</td>\n",
              "      <td>0</td>\n",
              "      <td>0</td>\n",
              "      <td>1</td>\n",
              "      <td>0</td>\n",
              "      <td>0</td>\n",
              "      <td>0</td>\n",
              "      <td>0</td>\n",
              "      <td>0</td>\n",
              "      <td>1</td>\n",
              "      <td>0</td>\n",
              "      <td>0</td>\n",
              "      <td>1</td>\n",
              "      <td>0</td>\n",
              "      <td>0</td>\n",
              "      <td>0</td>\n",
              "    </tr>\n",
              "    <tr>\n",
              "      <th>1</th>\n",
              "      <td>26883</td>\n",
              "      <td>4562</td>\n",
              "      <td>145</td>\n",
              "      <td>49.6</td>\n",
              "      <td>2.0</td>\n",
              "      <td>1</td>\n",
              "      <td>0</td>\n",
              "      <td>0</td>\n",
              "      <td>0</td>\n",
              "      <td>0</td>\n",
              "      <td>0</td>\n",
              "      <td>0</td>\n",
              "      <td>0</td>\n",
              "      <td>0</td>\n",
              "      <td>0</td>\n",
              "      <td>0</td>\n",
              "      <td>0</td>\n",
              "      <td>0</td>\n",
              "      <td>0</td>\n",
              "      <td>0</td>\n",
              "      <td>0</td>\n",
              "      <td>0</td>\n",
              "      <td>0</td>\n",
              "      <td>0</td>\n",
              "      <td>0</td>\n",
              "      <td>0</td>\n",
              "      <td>0</td>\n",
              "      <td>1</td>\n",
              "      <td>0</td>\n",
              "      <td>0</td>\n",
              "      <td>0</td>\n",
              "      <td>0</td>\n",
              "      <td>0</td>\n",
              "      <td>1</td>\n",
              "      <td>0</td>\n",
              "      <td>0</td>\n",
              "      <td>1</td>\n",
              "      <td>0</td>\n",
              "      <td>0</td>\n",
              "      <td>0</td>\n",
              "    </tr>\n",
              "    <tr>\n",
              "      <th>2</th>\n",
              "      <td>20000</td>\n",
              "      <td>7414</td>\n",
              "      <td>145</td>\n",
              "      <td>50.4</td>\n",
              "      <td>2.0</td>\n",
              "      <td>1</td>\n",
              "      <td>0</td>\n",
              "      <td>0</td>\n",
              "      <td>0</td>\n",
              "      <td>0</td>\n",
              "      <td>0</td>\n",
              "      <td>0</td>\n",
              "      <td>0</td>\n",
              "      <td>0</td>\n",
              "      <td>0</td>\n",
              "      <td>0</td>\n",
              "      <td>0</td>\n",
              "      <td>0</td>\n",
              "      <td>0</td>\n",
              "      <td>0</td>\n",
              "      <td>0</td>\n",
              "      <td>0</td>\n",
              "      <td>0</td>\n",
              "      <td>0</td>\n",
              "      <td>0</td>\n",
              "      <td>0</td>\n",
              "      <td>0</td>\n",
              "      <td>1</td>\n",
              "      <td>0</td>\n",
              "      <td>0</td>\n",
              "      <td>0</td>\n",
              "      <td>0</td>\n",
              "      <td>0</td>\n",
              "      <td>0</td>\n",
              "      <td>1</td>\n",
              "      <td>0</td>\n",
              "      <td>1</td>\n",
              "      <td>0</td>\n",
              "      <td>0</td>\n",
              "      <td>0</td>\n",
              "    </tr>\n",
              "    <tr>\n",
              "      <th>3</th>\n",
              "      <td>33492</td>\n",
              "      <td>4825</td>\n",
              "      <td>145</td>\n",
              "      <td>32.5</td>\n",
              "      <td>2.0</td>\n",
              "      <td>1</td>\n",
              "      <td>0</td>\n",
              "      <td>0</td>\n",
              "      <td>0</td>\n",
              "      <td>0</td>\n",
              "      <td>0</td>\n",
              "      <td>0</td>\n",
              "      <td>0</td>\n",
              "      <td>0</td>\n",
              "      <td>0</td>\n",
              "      <td>0</td>\n",
              "      <td>0</td>\n",
              "      <td>0</td>\n",
              "      <td>0</td>\n",
              "      <td>0</td>\n",
              "      <td>0</td>\n",
              "      <td>0</td>\n",
              "      <td>0</td>\n",
              "      <td>0</td>\n",
              "      <td>0</td>\n",
              "      <td>0</td>\n",
              "      <td>0</td>\n",
              "      <td>1</td>\n",
              "      <td>0</td>\n",
              "      <td>0</td>\n",
              "      <td>0</td>\n",
              "      <td>0</td>\n",
              "      <td>0</td>\n",
              "      <td>1</td>\n",
              "      <td>0</td>\n",
              "      <td>0</td>\n",
              "      <td>0</td>\n",
              "      <td>0</td>\n",
              "      <td>0</td>\n",
              "      <td>1</td>\n",
              "    </tr>\n",
              "    <tr>\n",
              "      <th>4</th>\n",
              "      <td>22900</td>\n",
              "      <td>6500</td>\n",
              "      <td>150</td>\n",
              "      <td>39.8</td>\n",
              "      <td>1.5</td>\n",
              "      <td>1</td>\n",
              "      <td>0</td>\n",
              "      <td>0</td>\n",
              "      <td>0</td>\n",
              "      <td>0</td>\n",
              "      <td>0</td>\n",
              "      <td>0</td>\n",
              "      <td>0</td>\n",
              "      <td>0</td>\n",
              "      <td>0</td>\n",
              "      <td>0</td>\n",
              "      <td>0</td>\n",
              "      <td>0</td>\n",
              "      <td>0</td>\n",
              "      <td>0</td>\n",
              "      <td>0</td>\n",
              "      <td>0</td>\n",
              "      <td>0</td>\n",
              "      <td>0</td>\n",
              "      <td>0</td>\n",
              "      <td>0</td>\n",
              "      <td>0</td>\n",
              "      <td>1</td>\n",
              "      <td>0</td>\n",
              "      <td>0</td>\n",
              "      <td>0</td>\n",
              "      <td>0</td>\n",
              "      <td>0</td>\n",
              "      <td>0</td>\n",
              "      <td>0</td>\n",
              "      <td>1</td>\n",
              "      <td>0</td>\n",
              "      <td>0</td>\n",
              "      <td>0</td>\n",
              "      <td>1</td>\n",
              "    </tr>\n",
              "  </tbody>\n",
              "</table>\n",
              "</div>"
            ],
            "text/plain": [
              "   price  mileage  tax   mpg  engineSize  age_car  model_ Amarok  \\\n",
              "0  25000    13904  145  49.6         2.0        1              0   \n",
              "1  26883     4562  145  49.6         2.0        1              0   \n",
              "2  20000     7414  145  50.4         2.0        1              0   \n",
              "3  33492     4825  145  32.5         2.0        1              0   \n",
              "4  22900     6500  150  39.8         1.5        1              0   \n",
              "\n",
              "   model_ Arteon  model_ Beetle  model_ CC  model_ Caddy  model_ Caddy Life  \\\n",
              "0              0              0          0             0                  0   \n",
              "1              0              0          0             0                  0   \n",
              "2              0              0          0             0                  0   \n",
              "3              0              0          0             0                  0   \n",
              "4              0              0          0             0                  0   \n",
              "\n",
              "   model_ Caddy Maxi  model_ Caddy Maxi Life  model_ California  \\\n",
              "0                  0                       0                  0   \n",
              "1                  0                       0                  0   \n",
              "2                  0                       0                  0   \n",
              "3                  0                       0                  0   \n",
              "4                  0                       0                  0   \n",
              "\n",
              "   model_ Caravelle  model_ Eos  model_ Fox  model_ Golf  model_ Golf SV  \\\n",
              "0                 0           0           0            0               0   \n",
              "1                 0           0           0            0               0   \n",
              "2                 0           0           0            0               0   \n",
              "3                 0           0           0            0               0   \n",
              "4                 0           0           0            0               0   \n",
              "\n",
              "   model_ Jetta  model_ Passat  model_ Polo  model_ Scirocco  model_ Sharan  \\\n",
              "0             0              0            0                0              0   \n",
              "1             0              0            0                0              0   \n",
              "2             0              0            0                0              0   \n",
              "3             0              0            0                0              0   \n",
              "4             0              0            0                0              0   \n",
              "\n",
              "   model_ Shuttle  model_ T-Cross  model_ T-Roc  model_ Tiguan  \\\n",
              "0               0               0             1              0   \n",
              "1               0               0             1              0   \n",
              "2               0               0             1              0   \n",
              "3               0               0             1              0   \n",
              "4               0               0             1              0   \n",
              "\n",
              "   model_ Tiguan Allspace  model_ Touareg  model_ Touran  model_ Up  \\\n",
              "0                       0               0              0          0   \n",
              "1                       0               0              0          0   \n",
              "2                       0               0              0          0   \n",
              "3                       0               0              0          0   \n",
              "4                       0               0              0          0   \n",
              "\n",
              "   transmission_Automatic  transmission_Manual  transmission_Semi-Auto  \\\n",
              "0                       1                    0                       0   \n",
              "1                       1                    0                       0   \n",
              "2                       0                    1                       0   \n",
              "3                       1                    0                       0   \n",
              "4                       0                    0                       1   \n",
              "\n",
              "   fuelType_Diesel  fuelType_Hybrid  fuelType_Other  fuelType_Petrol  \n",
              "0                1                0               0                0  \n",
              "1                1                0               0                0  \n",
              "2                1                0               0                0  \n",
              "3                0                0               0                1  \n",
              "4                0                0               0                1  "
            ]
          },
          "metadata": {},
          "execution_count": 70
        }
      ]
    },
    {
      "cell_type": "markdown",
      "metadata": {
        "id": "NPsDXMEL2G68"
      },
      "source": [
        "disini saya melakukan get dummies untuk merubah nilai object menjadi kategorikal sehingga dapat di training."
      ]
    },
    {
      "cell_type": "markdown",
      "metadata": {
        "id": "hXnWIzPbCoVH"
      },
      "source": [
        "# Normalize"
      ]
    },
    {
      "cell_type": "markdown",
      "metadata": {
        "id": "p9_hRMdmCsRa"
      },
      "source": [
        "disini saya melakukan normalisasi agar semua nilai seperti nilai nominal, nilai int dan nilai float akan bernilai sama sehingga akan memberikan data yang baik"
      ]
    },
    {
      "cell_type": "code",
      "metadata": {
        "colab": {
          "base_uri": "https://localhost:8080/"
        },
        "id": "EFocGIbZ1uvU",
        "outputId": "292da7e6-95f2-4bd3-844e-cdc5e8b0c0c9"
      },
      "source": [
        "scaler=StandardScaler()\n",
        "df_scaler=scaler.fit_transform(df_new)\n",
        "df_scaler=pd.DataFrame(df_scaler,columns=df_new.columns)\n",
        "print(df_scaler.shape)"
      ],
      "execution_count": 73,
      "outputs": [
        {
          "output_type": "stream",
          "name": "stdout",
          "text": [
            "(15157, 40)\n"
          ]
        }
      ]
    },
    {
      "cell_type": "code",
      "metadata": {
        "colab": {
          "base_uri": "https://localhost:8080/",
          "height": 278
        },
        "id": "NTSyiMqjCiMy",
        "outputId": "b0bbf3af-9235-406a-97b2-bd0925c42fd5"
      },
      "source": [
        "df_scaler.head()"
      ],
      "execution_count": 74,
      "outputs": [
        {
          "output_type": "execute_result",
          "data": {
            "text/html": [
              "<div>\n",
              "<style scoped>\n",
              "    .dataframe tbody tr th:only-of-type {\n",
              "        vertical-align: middle;\n",
              "    }\n",
              "\n",
              "    .dataframe tbody tr th {\n",
              "        vertical-align: top;\n",
              "    }\n",
              "\n",
              "    .dataframe thead th {\n",
              "        text-align: right;\n",
              "    }\n",
              "</style>\n",
              "<table border=\"1\" class=\"dataframe\">\n",
              "  <thead>\n",
              "    <tr style=\"text-align: right;\">\n",
              "      <th></th>\n",
              "      <th>price</th>\n",
              "      <th>mileage</th>\n",
              "      <th>tax</th>\n",
              "      <th>mpg</th>\n",
              "      <th>engineSize</th>\n",
              "      <th>age_car</th>\n",
              "      <th>model_ Amarok</th>\n",
              "      <th>model_ Arteon</th>\n",
              "      <th>model_ Beetle</th>\n",
              "      <th>model_ CC</th>\n",
              "      <th>model_ Caddy</th>\n",
              "      <th>model_ Caddy Life</th>\n",
              "      <th>model_ Caddy Maxi</th>\n",
              "      <th>model_ Caddy Maxi Life</th>\n",
              "      <th>model_ California</th>\n",
              "      <th>model_ Caravelle</th>\n",
              "      <th>model_ Eos</th>\n",
              "      <th>model_ Fox</th>\n",
              "      <th>model_ Golf</th>\n",
              "      <th>model_ Golf SV</th>\n",
              "      <th>model_ Jetta</th>\n",
              "      <th>model_ Passat</th>\n",
              "      <th>model_ Polo</th>\n",
              "      <th>model_ Scirocco</th>\n",
              "      <th>model_ Sharan</th>\n",
              "      <th>model_ Shuttle</th>\n",
              "      <th>model_ T-Cross</th>\n",
              "      <th>model_ T-Roc</th>\n",
              "      <th>model_ Tiguan</th>\n",
              "      <th>model_ Tiguan Allspace</th>\n",
              "      <th>model_ Touareg</th>\n",
              "      <th>model_ Touran</th>\n",
              "      <th>model_ Up</th>\n",
              "      <th>transmission_Automatic</th>\n",
              "      <th>transmission_Manual</th>\n",
              "      <th>transmission_Semi-Auto</th>\n",
              "      <th>fuelType_Diesel</th>\n",
              "      <th>fuelType_Hybrid</th>\n",
              "      <th>fuelType_Other</th>\n",
              "      <th>fuelType_Petrol</th>\n",
              "    </tr>\n",
              "  </thead>\n",
              "  <tbody>\n",
              "    <tr>\n",
              "      <th>0</th>\n",
              "      <td>1.052392</td>\n",
              "      <td>-0.387209</td>\n",
              "      <td>0.508120</td>\n",
              "      <td>-0.304459</td>\n",
              "      <td>0.864902</td>\n",
              "      <td>-0.849595</td>\n",
              "      <td>-0.085892</td>\n",
              "      <td>-0.128974</td>\n",
              "      <td>-0.074204</td>\n",
              "      <td>-0.079418</td>\n",
              "      <td>-0.0199</td>\n",
              "      <td>-0.02298</td>\n",
              "      <td>-0.016247</td>\n",
              "      <td>-0.062512</td>\n",
              "      <td>-0.031474</td>\n",
              "      <td>-0.081904</td>\n",
              "      <td>-0.021495</td>\n",
              "      <td>-0.016247</td>\n",
              "      <td>-0.687322</td>\n",
              "      <td>-0.134164</td>\n",
              "      <td>-0.045997</td>\n",
              "      <td>-0.253469</td>\n",
              "      <td>-0.526229</td>\n",
              "      <td>-0.127378</td>\n",
              "      <td>-0.13211</td>\n",
              "      <td>-0.063567</td>\n",
              "      <td>-0.1421</td>\n",
              "      <td>4.435993</td>\n",
              "      <td>-0.363036</td>\n",
              "      <td>-0.077718</td>\n",
              "      <td>-0.156643</td>\n",
              "      <td>-0.154194</td>\n",
              "      <td>-0.248868</td>\n",
              "      <td>2.594834</td>\n",
              "      <td>-1.280856</td>\n",
              "      <td>-0.576411</td>\n",
              "      <td>1.174175</td>\n",
              "      <td>-0.09828</td>\n",
              "      <td>-0.075981</td>\n",
              "      <td>-1.138035</td>\n",
              "    </tr>\n",
              "    <tr>\n",
              "      <th>1</th>\n",
              "      <td>1.295211</td>\n",
              "      <td>-0.828948</td>\n",
              "      <td>0.508120</td>\n",
              "      <td>-0.304459</td>\n",
              "      <td>0.864902</td>\n",
              "      <td>-0.849595</td>\n",
              "      <td>-0.085892</td>\n",
              "      <td>-0.128974</td>\n",
              "      <td>-0.074204</td>\n",
              "      <td>-0.079418</td>\n",
              "      <td>-0.0199</td>\n",
              "      <td>-0.02298</td>\n",
              "      <td>-0.016247</td>\n",
              "      <td>-0.062512</td>\n",
              "      <td>-0.031474</td>\n",
              "      <td>-0.081904</td>\n",
              "      <td>-0.021495</td>\n",
              "      <td>-0.016247</td>\n",
              "      <td>-0.687322</td>\n",
              "      <td>-0.134164</td>\n",
              "      <td>-0.045997</td>\n",
              "      <td>-0.253469</td>\n",
              "      <td>-0.526229</td>\n",
              "      <td>-0.127378</td>\n",
              "      <td>-0.13211</td>\n",
              "      <td>-0.063567</td>\n",
              "      <td>-0.1421</td>\n",
              "      <td>4.435993</td>\n",
              "      <td>-0.363036</td>\n",
              "      <td>-0.077718</td>\n",
              "      <td>-0.156643</td>\n",
              "      <td>-0.154194</td>\n",
              "      <td>-0.248868</td>\n",
              "      <td>2.594834</td>\n",
              "      <td>-1.280856</td>\n",
              "      <td>-0.576411</td>\n",
              "      <td>1.174175</td>\n",
              "      <td>-0.09828</td>\n",
              "      <td>-0.075981</td>\n",
              "      <td>-1.138035</td>\n",
              "    </tr>\n",
              "    <tr>\n",
              "      <th>2</th>\n",
              "      <td>0.407627</td>\n",
              "      <td>-0.694090</td>\n",
              "      <td>0.508120</td>\n",
              "      <td>-0.245816</td>\n",
              "      <td>0.864902</td>\n",
              "      <td>-0.849595</td>\n",
              "      <td>-0.085892</td>\n",
              "      <td>-0.128974</td>\n",
              "      <td>-0.074204</td>\n",
              "      <td>-0.079418</td>\n",
              "      <td>-0.0199</td>\n",
              "      <td>-0.02298</td>\n",
              "      <td>-0.016247</td>\n",
              "      <td>-0.062512</td>\n",
              "      <td>-0.031474</td>\n",
              "      <td>-0.081904</td>\n",
              "      <td>-0.021495</td>\n",
              "      <td>-0.016247</td>\n",
              "      <td>-0.687322</td>\n",
              "      <td>-0.134164</td>\n",
              "      <td>-0.045997</td>\n",
              "      <td>-0.253469</td>\n",
              "      <td>-0.526229</td>\n",
              "      <td>-0.127378</td>\n",
              "      <td>-0.13211</td>\n",
              "      <td>-0.063567</td>\n",
              "      <td>-0.1421</td>\n",
              "      <td>4.435993</td>\n",
              "      <td>-0.363036</td>\n",
              "      <td>-0.077718</td>\n",
              "      <td>-0.156643</td>\n",
              "      <td>-0.154194</td>\n",
              "      <td>-0.248868</td>\n",
              "      <td>-0.385381</td>\n",
              "      <td>0.780728</td>\n",
              "      <td>-0.576411</td>\n",
              "      <td>1.174175</td>\n",
              "      <td>-0.09828</td>\n",
              "      <td>-0.075981</td>\n",
              "      <td>-1.138035</td>\n",
              "    </tr>\n",
              "    <tr>\n",
              "      <th>3</th>\n",
              "      <td>2.147462</td>\n",
              "      <td>-0.816512</td>\n",
              "      <td>0.508120</td>\n",
              "      <td>-1.557966</td>\n",
              "      <td>0.864902</td>\n",
              "      <td>-0.849595</td>\n",
              "      <td>-0.085892</td>\n",
              "      <td>-0.128974</td>\n",
              "      <td>-0.074204</td>\n",
              "      <td>-0.079418</td>\n",
              "      <td>-0.0199</td>\n",
              "      <td>-0.02298</td>\n",
              "      <td>-0.016247</td>\n",
              "      <td>-0.062512</td>\n",
              "      <td>-0.031474</td>\n",
              "      <td>-0.081904</td>\n",
              "      <td>-0.021495</td>\n",
              "      <td>-0.016247</td>\n",
              "      <td>-0.687322</td>\n",
              "      <td>-0.134164</td>\n",
              "      <td>-0.045997</td>\n",
              "      <td>-0.253469</td>\n",
              "      <td>-0.526229</td>\n",
              "      <td>-0.127378</td>\n",
              "      <td>-0.13211</td>\n",
              "      <td>-0.063567</td>\n",
              "      <td>-0.1421</td>\n",
              "      <td>4.435993</td>\n",
              "      <td>-0.363036</td>\n",
              "      <td>-0.077718</td>\n",
              "      <td>-0.156643</td>\n",
              "      <td>-0.154194</td>\n",
              "      <td>-0.248868</td>\n",
              "      <td>2.594834</td>\n",
              "      <td>-1.280856</td>\n",
              "      <td>-0.576411</td>\n",
              "      <td>-0.851661</td>\n",
              "      <td>-0.09828</td>\n",
              "      <td>-0.075981</td>\n",
              "      <td>0.878707</td>\n",
              "    </tr>\n",
              "    <tr>\n",
              "      <th>4</th>\n",
              "      <td>0.781591</td>\n",
              "      <td>-0.737309</td>\n",
              "      <td>0.586884</td>\n",
              "      <td>-1.022843</td>\n",
              "      <td>-0.218101</td>\n",
              "      <td>-0.849595</td>\n",
              "      <td>-0.085892</td>\n",
              "      <td>-0.128974</td>\n",
              "      <td>-0.074204</td>\n",
              "      <td>-0.079418</td>\n",
              "      <td>-0.0199</td>\n",
              "      <td>-0.02298</td>\n",
              "      <td>-0.016247</td>\n",
              "      <td>-0.062512</td>\n",
              "      <td>-0.031474</td>\n",
              "      <td>-0.081904</td>\n",
              "      <td>-0.021495</td>\n",
              "      <td>-0.016247</td>\n",
              "      <td>-0.687322</td>\n",
              "      <td>-0.134164</td>\n",
              "      <td>-0.045997</td>\n",
              "      <td>-0.253469</td>\n",
              "      <td>-0.526229</td>\n",
              "      <td>-0.127378</td>\n",
              "      <td>-0.13211</td>\n",
              "      <td>-0.063567</td>\n",
              "      <td>-0.1421</td>\n",
              "      <td>4.435993</td>\n",
              "      <td>-0.363036</td>\n",
              "      <td>-0.077718</td>\n",
              "      <td>-0.156643</td>\n",
              "      <td>-0.154194</td>\n",
              "      <td>-0.248868</td>\n",
              "      <td>-0.385381</td>\n",
              "      <td>-1.280856</td>\n",
              "      <td>1.734874</td>\n",
              "      <td>-0.851661</td>\n",
              "      <td>-0.09828</td>\n",
              "      <td>-0.075981</td>\n",
              "      <td>0.878707</td>\n",
              "    </tr>\n",
              "  </tbody>\n",
              "</table>\n",
              "</div>"
            ],
            "text/plain": [
              "      price   mileage       tax       mpg  engineSize   age_car  \\\n",
              "0  1.052392 -0.387209  0.508120 -0.304459    0.864902 -0.849595   \n",
              "1  1.295211 -0.828948  0.508120 -0.304459    0.864902 -0.849595   \n",
              "2  0.407627 -0.694090  0.508120 -0.245816    0.864902 -0.849595   \n",
              "3  2.147462 -0.816512  0.508120 -1.557966    0.864902 -0.849595   \n",
              "4  0.781591 -0.737309  0.586884 -1.022843   -0.218101 -0.849595   \n",
              "\n",
              "   model_ Amarok  model_ Arteon  model_ Beetle  model_ CC  model_ Caddy  \\\n",
              "0      -0.085892      -0.128974      -0.074204  -0.079418       -0.0199   \n",
              "1      -0.085892      -0.128974      -0.074204  -0.079418       -0.0199   \n",
              "2      -0.085892      -0.128974      -0.074204  -0.079418       -0.0199   \n",
              "3      -0.085892      -0.128974      -0.074204  -0.079418       -0.0199   \n",
              "4      -0.085892      -0.128974      -0.074204  -0.079418       -0.0199   \n",
              "\n",
              "   model_ Caddy Life  model_ Caddy Maxi  model_ Caddy Maxi Life  \\\n",
              "0           -0.02298          -0.016247               -0.062512   \n",
              "1           -0.02298          -0.016247               -0.062512   \n",
              "2           -0.02298          -0.016247               -0.062512   \n",
              "3           -0.02298          -0.016247               -0.062512   \n",
              "4           -0.02298          -0.016247               -0.062512   \n",
              "\n",
              "   model_ California  model_ Caravelle  model_ Eos  model_ Fox  model_ Golf  \\\n",
              "0          -0.031474         -0.081904   -0.021495   -0.016247    -0.687322   \n",
              "1          -0.031474         -0.081904   -0.021495   -0.016247    -0.687322   \n",
              "2          -0.031474         -0.081904   -0.021495   -0.016247    -0.687322   \n",
              "3          -0.031474         -0.081904   -0.021495   -0.016247    -0.687322   \n",
              "4          -0.031474         -0.081904   -0.021495   -0.016247    -0.687322   \n",
              "\n",
              "   model_ Golf SV  model_ Jetta  model_ Passat  model_ Polo  model_ Scirocco  \\\n",
              "0       -0.134164     -0.045997      -0.253469    -0.526229        -0.127378   \n",
              "1       -0.134164     -0.045997      -0.253469    -0.526229        -0.127378   \n",
              "2       -0.134164     -0.045997      -0.253469    -0.526229        -0.127378   \n",
              "3       -0.134164     -0.045997      -0.253469    -0.526229        -0.127378   \n",
              "4       -0.134164     -0.045997      -0.253469    -0.526229        -0.127378   \n",
              "\n",
              "   model_ Sharan  model_ Shuttle  model_ T-Cross  model_ T-Roc  model_ Tiguan  \\\n",
              "0       -0.13211       -0.063567         -0.1421      4.435993      -0.363036   \n",
              "1       -0.13211       -0.063567         -0.1421      4.435993      -0.363036   \n",
              "2       -0.13211       -0.063567         -0.1421      4.435993      -0.363036   \n",
              "3       -0.13211       -0.063567         -0.1421      4.435993      -0.363036   \n",
              "4       -0.13211       -0.063567         -0.1421      4.435993      -0.363036   \n",
              "\n",
              "   model_ Tiguan Allspace  model_ Touareg  model_ Touran  model_ Up  \\\n",
              "0               -0.077718       -0.156643      -0.154194  -0.248868   \n",
              "1               -0.077718       -0.156643      -0.154194  -0.248868   \n",
              "2               -0.077718       -0.156643      -0.154194  -0.248868   \n",
              "3               -0.077718       -0.156643      -0.154194  -0.248868   \n",
              "4               -0.077718       -0.156643      -0.154194  -0.248868   \n",
              "\n",
              "   transmission_Automatic  transmission_Manual  transmission_Semi-Auto  \\\n",
              "0                2.594834            -1.280856               -0.576411   \n",
              "1                2.594834            -1.280856               -0.576411   \n",
              "2               -0.385381             0.780728               -0.576411   \n",
              "3                2.594834            -1.280856               -0.576411   \n",
              "4               -0.385381            -1.280856                1.734874   \n",
              "\n",
              "   fuelType_Diesel  fuelType_Hybrid  fuelType_Other  fuelType_Petrol  \n",
              "0         1.174175         -0.09828       -0.075981        -1.138035  \n",
              "1         1.174175         -0.09828       -0.075981        -1.138035  \n",
              "2         1.174175         -0.09828       -0.075981        -1.138035  \n",
              "3        -0.851661         -0.09828       -0.075981         0.878707  \n",
              "4        -0.851661         -0.09828       -0.075981         0.878707  "
            ]
          },
          "metadata": {},
          "execution_count": 74
        }
      ]
    },
    {
      "cell_type": "code",
      "metadata": {
        "id": "FeBu4EoIDFc_"
      },
      "source": [
        "X=df_scaler.drop(columns=['price'])\n",
        "y=df_scaler['price']"
      ],
      "execution_count": 75,
      "outputs": []
    },
    {
      "cell_type": "markdown",
      "metadata": {
        "id": "L2NiICctEjPw"
      },
      "source": [
        "# Modelling and Training"
      ]
    },
    {
      "cell_type": "code",
      "metadata": {
        "id": "ViyE7C72Ckyh"
      },
      "source": [
        "X_train,X_test,Y_train,Y_test=train_test_split(X,y)"
      ],
      "execution_count": 76,
      "outputs": []
    },
    {
      "cell_type": "code",
      "metadata": {
        "colab": {
          "base_uri": "https://localhost:8080/"
        },
        "id": "2xNmd3GhDU8b",
        "outputId": "1accb5df-dcaa-40df-b97e-e3f03bff01ad"
      },
      "source": [
        "linreg=LinearRegression()\n",
        "linreg.fit(X_train,Y_train)\n",
        "y_pred=linreg.predict(X_test)\n",
        "print('Slope:',linreg.intercept_)\n",
        "print('coefficient:',linreg.coef_)\n",
        "print('nilai score',linreg.score(X_test,Y_test))\n"
      ],
      "execution_count": 80,
      "outputs": [
        {
          "output_type": "stream",
          "name": "stdout",
          "text": [
            "Slope: -0.000290571964837159\n",
            "coefficient: [-2.10936555e-01 -7.82697852e-02 -1.52965492e-01  4.25446346e-01\n",
            " -3.39443223e-01  4.44273979e+08  6.61041853e+08  3.84531711e+08\n",
            "  4.11227343e+08  1.03651391e+08  1.19678417e+08  8.46365918e+07\n",
            "  3.24462549e+08  1.63838555e+08  4.23930193e+08  1.11952603e+08\n",
            "  8.46365918e+07  2.43233325e+09  6.86718933e+08  2.39167156e+08\n",
            "  1.24100890e+09  2.14735610e+09  6.53127802e+08  6.76573436e+08\n",
            "  3.29894231e+08  7.25780087e+08  1.11782470e+09  1.67137513e+09\n",
            "  4.02530263e+08  7.96663608e+08  7.84791692e+08  1.22113203e+09\n",
            " -8.10107560e+09 -1.17108730e+10 -1.04456825e+10  3.50254150e+09\n",
            "  6.90681467e+08  5.36032073e+08  3.51833584e+09]\n",
            "nilai score 0.8855092828002151\n"
          ]
        }
      ]
    },
    {
      "cell_type": "code",
      "metadata": {
        "id": "OCUcNDftDnL4"
      },
      "source": [
        "from sklearn.metrics import r2_score,mean_squared_error"
      ],
      "execution_count": 79,
      "outputs": []
    },
    {
      "cell_type": "markdown",
      "metadata": {
        "id": "9U9nF74NEplD"
      },
      "source": [
        "# Conclusion Report"
      ]
    },
    {
      "cell_type": "code",
      "metadata": {
        "colab": {
          "base_uri": "https://localhost:8080/"
        },
        "id": "kQBZwh8UD9eu",
        "outputId": "0396a620-d82d-4e59-a2d2-fd793581b241"
      },
      "source": [
        "print('mse:',mean_squared_error(Y_test,y_pred))\n",
        "print('rmse:',np.sqrt(mean_squared_error(Y_test,y_pred)))\n",
        "print('r^2:',r2_score(Y_test,y_pred))"
      ],
      "execution_count": 82,
      "outputs": [
        {
          "output_type": "stream",
          "name": "stdout",
          "text": [
            "mse: 0.10687764322142126\n",
            "rmse: 0.32692146338443623\n",
            "r^2: 0.8855092828002151\n"
          ]
        }
      ]
    },
    {
      "cell_type": "code",
      "metadata": {
        "id": "3Z_94ij-GDer"
      },
      "source": [
        ""
      ],
      "execution_count": null,
      "outputs": []
    },
    {
      "cell_type": "markdown",
      "metadata": {
        "id": "gUnYyxhCGD1H"
      },
      "source": [
        "# Modelling"
      ]
    },
    {
      "cell_type": "markdown",
      "metadata": {
        "id": "Vhbb1-1CFLLz"
      },
      "source": [
        "disini saya mendapatkan score prediksi yang baik yaitu sebesar 0.885 atau 88.5% sehingga masih cukup baik untuk prediksi tetapi itu masih standar sehingga masih banyak yang harus dirubah pada modelling"
      ]
    },
    {
      "cell_type": "code",
      "metadata": {
        "id": "nsz7avemGGxc"
      },
      "source": [
        "from sklearn.ensemble import RandomForestRegressor\n",
        "from sklearn.feature_selection import SelectKBest, f_regression\n",
        "from sklearn.linear_model import LinearRegression, Ridge, Lasso\n",
        "from sklearn.model_selection import train_test_split, cross_val_score\n",
        "from sklearn.neural_network import MLPRegressor\n",
        "from sklearn.preprocessing import StandardScaler\n",
        "from sklearn.preprocessing import PolynomialFeatures\n",
        "from sklearn.svm import SVR\n"
      ],
      "execution_count": 85,
      "outputs": []
    },
    {
      "cell_type": "code",
      "metadata": {
        "colab": {
          "base_uri": "https://localhost:8080/",
          "height": 284
        },
        "id": "FUx_7aJ-EUeP",
        "outputId": "3dc9ed72-974e-4ccf-e9c3-7f1d0b3c3ad9"
      },
      "source": [
        "column_names=df_new.drop(columns=['price']).columns\n",
        "\n",
        "no_of_features = []\n",
        "r_squared_train = []\n",
        "r_squared_test = []\n",
        "\n",
        "for k in range(3, 40, 2):\n",
        "    selector = SelectKBest(f_regression, k = k)\n",
        "    X_train_transformed = selector.fit_transform(X_train, Y_train)\n",
        "    X_test_transformed = selector.transform(X_test)\n",
        "    regressor = LinearRegression()\n",
        "    regressor.fit(X_train_transformed, Y_train)\n",
        "    no_of_features.append(k)\n",
        "    r_squared_train.append(regressor.score(X_train_transformed, Y_train))\n",
        "    r_squared_test.append(regressor.score(X_test_transformed, Y_test))\n",
        "    \n",
        "sns.lineplot(x = no_of_features, y = r_squared_train, legend = 'full')\n",
        "sns.lineplot(x = no_of_features, y = r_squared_test, legend = 'full')"
      ],
      "execution_count": 86,
      "outputs": [
        {
          "output_type": "execute_result",
          "data": {
            "text/plain": [
              "<matplotlib.axes._subplots.AxesSubplot at 0x7f7fdb5cf7d0>"
            ]
          },
          "metadata": {},
          "execution_count": 86
        },
        {
          "output_type": "display_data",
          "data": {
            "image/png": "[encoded data removed]",
            "text/plain": [
              "<Figure size 432x288 with 1 Axes>"
            ]
          },
          "metadata": {
            "needs_background": "light"
          }
        }
      ]
    },
    {
      "cell_type": "markdown",
      "metadata": {
        "id": "Kb5VMTYyGRcy"
      },
      "source": [
        "disini saya mencoba untuk menebak berapa jumlah variabel yang terbaik agar dapat menghasilkan prediksi yang baik dan ternyata dengan KBest saya dapat mendapatkan prediksi yang baik dengan 23 variabel yaitu 0.88 seperti dengan pengujian model pertama."
      ]
    },
    {
      "cell_type": "code",
      "metadata": {
        "colab": {
          "base_uri": "https://localhost:8080/"
        },
        "id": "kZuAr0mHF7RB",
        "outputId": "256457bd-34b0-440a-b36e-4fce85bd4ff9"
      },
      "source": [
        "selector = SelectKBest(f_regression, k = 23)\n",
        "X_train_transformed = selector.fit_transform(X_train, Y_train)\n",
        "X_test_transformed = selector.transform(X_test)\n",
        "column_names[selector.get_support()]"
      ],
      "execution_count": 87,
      "outputs": [
        {
          "output_type": "execute_result",
          "data": {
            "text/plain": [
              "Index(['mileage', 'tax', 'mpg', 'engineSize', 'age_car', 'model_ Amarok',\n",
              "       'model_ Arteon', 'model_ Beetle', 'model_ California',\n",
              "       'model_ Caravelle', 'model_ Polo', 'model_ Sharan', 'model_ T-Roc',\n",
              "       'model_ Tiguan', 'model_ Tiguan Allspace', 'model_ Touareg',\n",
              "       'model_ Up', 'transmission_Automatic', 'transmission_Manual',\n",
              "       'transmission_Semi-Auto', 'fuelType_Diesel', 'fuelType_Hybrid',\n",
              "       'fuelType_Petrol'],\n",
              "      dtype='object')"
            ]
          },
          "metadata": {},
          "execution_count": 87
        }
      ]
    },
    {
      "cell_type": "code",
      "metadata": {
        "id": "tt1RBKrJHCbP"
      },
      "source": [
        "def regression_model(model):\n",
        "    regressor = model\n",
        "    regressor.fit(X_train_transformed, Y_train)\n",
        "    score = regressor.score(X_test_transformed, Y_test)\n",
        "    return regressor, score"
      ],
      "execution_count": 90,
      "outputs": []
    },
    {
      "cell_type": "markdown",
      "metadata": {
        "id": "nM6NkDE7LkkF"
      },
      "source": [
        "# Prediction"
      ]
    },
    {
      "cell_type": "code",
      "metadata": {
        "colab": {
          "base_uri": "https://localhost:8080/",
          "height": 237
        },
        "id": "3teWikMAHLy4",
        "outputId": "2b2f92d5-7238-4e7d-86f8-7a8a1202b641"
      },
      "source": [
        "model_performance = pd.DataFrame(columns = [\"Features\", \"Model\", \"Score\"])\n",
        "\n",
        "models_to_evaluate = [LinearRegression(), Ridge(), Lasso(), SVR(), RandomForestRegressor(), MLPRegressor()]\n",
        "\n",
        "for model in models_to_evaluate:\n",
        "    regressor, score = regression_model(model)\n",
        "    model_performance = model_performance.append({\"Features\": \"Linear\",\"Model\": model, \"Score\": score}, ignore_index=True)\n",
        "\n",
        "model_performance"
      ],
      "execution_count": 91,
      "outputs": [
        {
          "output_type": "execute_result",
          "data": {
            "text/html": [
              "<div>\n",
              "<style scoped>\n",
              "    .dataframe tbody tr th:only-of-type {\n",
              "        vertical-align: middle;\n",
              "    }\n",
              "\n",
              "    .dataframe tbody tr th {\n",
              "        vertical-align: top;\n",
              "    }\n",
              "\n",
              "    .dataframe thead th {\n",
              "        text-align: right;\n",
              "    }\n",
              "</style>\n",
              "<table border=\"1\" class=\"dataframe\">\n",
              "  <thead>\n",
              "    <tr style=\"text-align: right;\">\n",
              "      <th></th>\n",
              "      <th>Features</th>\n",
              "      <th>Model</th>\n",
              "      <th>Score</th>\n",
              "    </tr>\n",
              "  </thead>\n",
              "  <tbody>\n",
              "    <tr>\n",
              "      <th>0</th>\n",
              "      <td>Linear</td>\n",
              "      <td>LinearRegression(copy_X=True, fit_intercept=Tr...</td>\n",
              "      <td>0.877321</td>\n",
              "    </tr>\n",
              "    <tr>\n",
              "      <th>1</th>\n",
              "      <td>Linear</td>\n",
              "      <td>Ridge(alpha=1.0, copy_X=True, fit_intercept=Tr...</td>\n",
              "      <td>0.877327</td>\n",
              "    </tr>\n",
              "    <tr>\n",
              "      <th>2</th>\n",
              "      <td>Linear</td>\n",
              "      <td>Lasso(alpha=1.0, copy_X=True, fit_intercept=Tr...</td>\n",
              "      <td>-0.000003</td>\n",
              "    </tr>\n",
              "    <tr>\n",
              "      <th>3</th>\n",
              "      <td>Linear</td>\n",
              "      <td>SVR(C=1.0, cache_size=200, coef0=0.0, degree=3...</td>\n",
              "      <td>0.935133</td>\n",
              "    </tr>\n",
              "    <tr>\n",
              "      <th>4</th>\n",
              "      <td>Linear</td>\n",
              "      <td>(DecisionTreeRegressor(ccp_alpha=0.0, criterio...</td>\n",
              "      <td>0.947823</td>\n",
              "    </tr>\n",
              "    <tr>\n",
              "      <th>5</th>\n",
              "      <td>Linear</td>\n",
              "      <td>MLPRegressor(activation='relu', alpha=0.0001, ...</td>\n",
              "      <td>0.937424</td>\n",
              "    </tr>\n",
              "  </tbody>\n",
              "</table>\n",
              "</div>"
            ],
            "text/plain": [
              "  Features                                              Model     Score\n",
              "0   Linear  LinearRegression(copy_X=True, fit_intercept=Tr...  0.877321\n",
              "1   Linear  Ridge(alpha=1.0, copy_X=True, fit_intercept=Tr...  0.877327\n",
              "2   Linear  Lasso(alpha=1.0, copy_X=True, fit_intercept=Tr... -0.000003\n",
              "3   Linear  SVR(C=1.0, cache_size=200, coef0=0.0, degree=3...  0.935133\n",
              "4   Linear  (DecisionTreeRegressor(ccp_alpha=0.0, criterio...  0.947823\n",
              "5   Linear  MLPRegressor(activation='relu', alpha=0.0001, ...  0.937424"
            ]
          },
          "metadata": {},
          "execution_count": 91
        }
      ]
    },
    {
      "cell_type": "markdown",
      "metadata": {
        "id": "wxdM9ktSLvUJ"
      },
      "source": [
        "disini saya mencoba untuk prediksi dengan menggunakan banyak model dan ternyata model tertinggi didapatkan oleh DecisionTreeRegressor dengan score tertinggi 0.947823"
      ]
    },
    {
      "cell_type": "code",
      "metadata": {
        "colab": {
          "base_uri": "https://localhost:8080/",
          "height": 1000
        },
        "id": "KA6OcRoVHn79",
        "outputId": "4cb814a8-b65e-4a3d-811d-7c0790d70bbf"
      },
      "source": [
        "poly = PolynomialFeatures()\n",
        "X_train_transformed_poly = poly.fit_transform(X_train)\n",
        "X_test_transformed_poly = poly.transform(X_test)\n",
        "\n",
        "print(X_train_transformed_poly.shape)\n",
        "\n",
        "no_of_features = []\n",
        "r_squared = []\n",
        "\n",
        "for k in range(10, 277, 5):\n",
        "    selector = SelectKBest(f_regression, k = k)\n",
        "    X_train_transformed = selector.fit_transform(X_train_transformed_poly, Y_train)\n",
        "    regressor = LinearRegression()\n",
        "    regressor.fit(X_train_transformed, Y_train)\n",
        "    no_of_features.append(k)\n",
        "    r_squared.append(regressor.score(X_train_transformed, Y_train))\n",
        "    \n",
        "sns.lineplot(x = no_of_features, y = r_squared)"
      ],
      "execution_count": 92,
      "outputs": [
        {
          "output_type": "stream",
          "name": "stdout",
          "text": [
            "(11367, 820)\n"
          ]
        },
        {
          "output_type": "stream",
          "name": "stderr",
          "text": [
            "/usr/local/lib/python3.7/dist-packages/sklearn/feature_selection/_univariate_selection.py:299: RuntimeWarning:\n",
            "\n",
            "divide by zero encountered in true_divide\n",
            "\n",
            "/usr/local/lib/python3.7/dist-packages/sklearn/feature_selection/_univariate_selection.py:304: RuntimeWarning:\n",
            "\n",
            "invalid value encountered in true_divide\n",
            "\n",
            "/usr/local/lib/python3.7/dist-packages/sklearn/feature_selection/_univariate_selection.py:299: RuntimeWarning:\n",
            "\n",
            "divide by zero encountered in true_divide\n",
            "\n",
            "/usr/local/lib/python3.7/dist-packages/sklearn/feature_selection/_univariate_selection.py:304: RuntimeWarning:\n",
            "\n",
            "invalid value encountered in true_divide\n",
            "\n",
            "/usr/local/lib/python3.7/dist-packages/sklearn/feature_selection/_univariate_selection.py:299: RuntimeWarning:\n",
            "\n",
            "divide by zero encountered in true_divide\n",
            "\n",
            "/usr/local/lib/python3.7/dist-packages/sklearn/feature_selection/_univariate_selection.py:304: RuntimeWarning:\n",
            "\n",
            "invalid value encountered in true_divide\n",
            "\n",
            "/usr/local/lib/python3.7/dist-packages/sklearn/feature_selection/_univariate_selection.py:299: RuntimeWarning:\n",
            "\n",
            "divide by zero encountered in true_divide\n",
            "\n",
            "/usr/local/lib/python3.7/dist-packages/sklearn/feature_selection/_univariate_selection.py:304: RuntimeWarning:\n",
            "\n",
            "invalid value encountered in true_divide\n",
            "\n",
            "/usr/local/lib/python3.7/dist-packages/sklearn/feature_selection/_univariate_selection.py:299: RuntimeWarning:\n",
            "\n",
            "divide by zero encountered in true_divide\n",
            "\n",
            "/usr/local/lib/python3.7/dist-packages/sklearn/feature_selection/_univariate_selection.py:304: RuntimeWarning:\n",
            "\n",
            "invalid value encountered in true_divide\n",
            "\n",
            "/usr/local/lib/python3.7/dist-packages/sklearn/feature_selection/_univariate_selection.py:299: RuntimeWarning:\n",
            "\n",
            "divide by zero encountered in true_divide\n",
            "\n",
            "/usr/local/lib/python3.7/dist-packages/sklearn/feature_selection/_univariate_selection.py:304: RuntimeWarning:\n",
            "\n",
            "invalid value encountered in true_divide\n",
            "\n",
            "/usr/local/lib/python3.7/dist-packages/sklearn/feature_selection/_univariate_selection.py:299: RuntimeWarning:\n",
            "\n",
            "divide by zero encountered in true_divide\n",
            "\n",
            "/usr/local/lib/python3.7/dist-packages/sklearn/feature_selection/_univariate_selection.py:304: RuntimeWarning:\n",
            "\n",
            "invalid value encountered in true_divide\n",
            "\n",
            "/usr/local/lib/python3.7/dist-packages/sklearn/feature_selection/_univariate_selection.py:299: RuntimeWarning:\n",
            "\n",
            "divide by zero encountered in true_divide\n",
            "\n",
            "/usr/local/lib/python3.7/dist-packages/sklearn/feature_selection/_univariate_selection.py:304: RuntimeWarning:\n",
            "\n",
            "invalid value encountered in true_divide\n",
            "\n",
            "/usr/local/lib/python3.7/dist-packages/sklearn/feature_selection/_univariate_selection.py:299: RuntimeWarning:\n",
            "\n",
            "divide by zero encountered in true_divide\n",
            "\n",
            "/usr/local/lib/python3.7/dist-packages/sklearn/feature_selection/_univariate_selection.py:304: RuntimeWarning:\n",
            "\n",
            "invalid value encountered in true_divide\n",
            "\n",
            "/usr/local/lib/python3.7/dist-packages/sklearn/feature_selection/_univariate_selection.py:299: RuntimeWarning:\n",
            "\n",
            "divide by zero encountered in true_divide\n",
            "\n",
            "/usr/local/lib/python3.7/dist-packages/sklearn/feature_selection/_univariate_selection.py:304: RuntimeWarning:\n",
            "\n",
            "invalid value encountered in true_divide\n",
            "\n",
            "/usr/local/lib/python3.7/dist-packages/sklearn/feature_selection/_univariate_selection.py:299: RuntimeWarning:\n",
            "\n",
            "divide by zero encountered in true_divide\n",
            "\n",
            "/usr/local/lib/python3.7/dist-packages/sklearn/feature_selection/_univariate_selection.py:304: RuntimeWarning:\n",
            "\n",
            "invalid value encountered in true_divide\n",
            "\n",
            "/usr/local/lib/python3.7/dist-packages/sklearn/feature_selection/_univariate_selection.py:299: RuntimeWarning:\n",
            "\n",
            "divide by zero encountered in true_divide\n",
            "\n",
            "/usr/local/lib/python3.7/dist-packages/sklearn/feature_selection/_univariate_selection.py:304: RuntimeWarning:\n",
            "\n",
            "invalid value encountered in true_divide\n",
            "\n",
            "/usr/local/lib/python3.7/dist-packages/sklearn/feature_selection/_univariate_selection.py:299: RuntimeWarning:\n",
            "\n",
            "divide by zero encountered in true_divide\n",
            "\n",
            "/usr/local/lib/python3.7/dist-packages/sklearn/feature_selection/_univariate_selection.py:304: RuntimeWarning:\n",
            "\n",
            "invalid value encountered in true_divide\n",
            "\n",
            "/usr/local/lib/python3.7/dist-packages/sklearn/feature_selection/_univariate_selection.py:299: RuntimeWarning:\n",
            "\n",
            "divide by zero encountered in true_divide\n",
            "\n",
            "/usr/local/lib/python3.7/dist-packages/sklearn/feature_selection/_univariate_selection.py:304: RuntimeWarning:\n",
            "\n",
            "invalid value encountered in true_divide\n",
            "\n",
            "/usr/local/lib/python3.7/dist-packages/sklearn/feature_selection/_univariate_selection.py:299: RuntimeWarning:\n",
            "\n",
            "divide by zero encountered in true_divide\n",
            "\n",
            "/usr/local/lib/python3.7/dist-packages/sklearn/feature_selection/_univariate_selection.py:304: RuntimeWarning:\n",
            "\n",
            "invalid value encountered in true_divide\n",
            "\n",
            "/usr/local/lib/python3.7/dist-packages/sklearn/feature_selection/_univariate_selection.py:299: RuntimeWarning:\n",
            "\n",
            "divide by zero encountered in true_divide\n",
            "\n",
            "/usr/local/lib/python3.7/dist-packages/sklearn/feature_selection/_univariate_selection.py:304: RuntimeWarning:\n",
            "\n",
            "invalid value encountered in true_divide\n",
            "\n",
            "/usr/local/lib/python3.7/dist-packages/sklearn/feature_selection/_univariate_selection.py:299: RuntimeWarning:\n",
            "\n",
            "divide by zero encountered in true_divide\n",
            "\n",
            "/usr/local/lib/python3.7/dist-packages/sklearn/feature_selection/_univariate_selection.py:304: RuntimeWarning:\n",
            "\n",
            "invalid value encountered in true_divide\n",
            "\n",
            "/usr/local/lib/python3.7/dist-packages/sklearn/feature_selection/_univariate_selection.py:299: RuntimeWarning:\n",
            "\n",
            "divide by zero encountered in true_divide\n",
            "\n",
            "/usr/local/lib/python3.7/dist-packages/sklearn/feature_selection/_univariate_selection.py:304: RuntimeWarning:\n",
            "\n",
            "invalid value encountered in true_divide\n",
            "\n",
            "/usr/local/lib/python3.7/dist-packages/sklearn/feature_selection/_univariate_selection.py:299: RuntimeWarning:\n",
            "\n",
            "divide by zero encountered in true_divide\n",
            "\n",
            "/usr/local/lib/python3.7/dist-packages/sklearn/feature_selection/_univariate_selection.py:304: RuntimeWarning:\n",
            "\n",
            "invalid value encountered in true_divide\n",
            "\n",
            "/usr/local/lib/python3.7/dist-packages/sklearn/feature_selection/_univariate_selection.py:299: RuntimeWarning:\n",
            "\n",
            "divide by zero encountered in true_divide\n",
            "\n",
            "/usr/local/lib/python3.7/dist-packages/sklearn/feature_selection/_univariate_selection.py:304: RuntimeWarning:\n",
            "\n",
            "invalid value encountered in true_divide\n",
            "\n",
            "/usr/local/lib/python3.7/dist-packages/sklearn/feature_selection/_univariate_selection.py:299: RuntimeWarning:\n",
            "\n",
            "divide by zero encountered in true_divide\n",
            "\n",
            "/usr/local/lib/python3.7/dist-packages/sklearn/feature_selection/_univariate_selection.py:304: RuntimeWarning:\n",
            "\n",
            "invalid value encountered in true_divide\n",
            "\n",
            "/usr/local/lib/python3.7/dist-packages/sklearn/feature_selection/_univariate_selection.py:299: RuntimeWarning:\n",
            "\n",
            "divide by zero encountered in true_divide\n",
            "\n",
            "/usr/local/lib/python3.7/dist-packages/sklearn/feature_selection/_univariate_selection.py:304: RuntimeWarning:\n",
            "\n",
            "invalid value encountered in true_divide\n",
            "\n",
            "/usr/local/lib/python3.7/dist-packages/sklearn/feature_selection/_univariate_selection.py:299: RuntimeWarning:\n",
            "\n",
            "divide by zero encountered in true_divide\n",
            "\n",
            "/usr/local/lib/python3.7/dist-packages/sklearn/feature_selection/_univariate_selection.py:304: RuntimeWarning:\n",
            "\n",
            "invalid value encountered in true_divide\n",
            "\n",
            "/usr/local/lib/python3.7/dist-packages/sklearn/feature_selection/_univariate_selection.py:299: RuntimeWarning:\n",
            "\n",
            "divide by zero encountered in true_divide\n",
            "\n",
            "/usr/local/lib/python3.7/dist-packages/sklearn/feature_selection/_univariate_selection.py:304: RuntimeWarning:\n",
            "\n",
            "invalid value encountered in true_divide\n",
            "\n",
            "/usr/local/lib/python3.7/dist-packages/sklearn/feature_selection/_univariate_selection.py:299: RuntimeWarning:\n",
            "\n",
            "divide by zero encountered in true_divide\n",
            "\n",
            "/usr/local/lib/python3.7/dist-packages/sklearn/feature_selection/_univariate_selection.py:304: RuntimeWarning:\n",
            "\n",
            "invalid value encountered in true_divide\n",
            "\n",
            "/usr/local/lib/python3.7/dist-packages/sklearn/feature_selection/_univariate_selection.py:299: RuntimeWarning:\n",
            "\n",
            "divide by zero encountered in true_divide\n",
            "\n",
            "/usr/local/lib/python3.7/dist-packages/sklearn/feature_selection/_univariate_selection.py:304: RuntimeWarning:\n",
            "\n",
            "invalid value encountered in true_divide\n",
            "\n",
            "/usr/local/lib/python3.7/dist-packages/sklearn/feature_selection/_univariate_selection.py:299: RuntimeWarning:\n",
            "\n",
            "divide by zero encountered in true_divide\n",
            "\n",
            "/usr/local/lib/python3.7/dist-packages/sklearn/feature_selection/_univariate_selection.py:304: RuntimeWarning:\n",
            "\n",
            "invalid value encountered in true_divide\n",
            "\n",
            "/usr/local/lib/python3.7/dist-packages/sklearn/feature_selection/_univariate_selection.py:299: RuntimeWarning:\n",
            "\n",
            "divide by zero encountered in true_divide\n",
            "\n",
            "/usr/local/lib/python3.7/dist-packages/sklearn/feature_selection/_univariate_selection.py:304: RuntimeWarning:\n",
            "\n",
            "invalid value encountered in true_divide\n",
            "\n",
            "/usr/local/lib/python3.7/dist-packages/sklearn/feature_selection/_univariate_selection.py:299: RuntimeWarning:\n",
            "\n",
            "divide by zero encountered in true_divide\n",
            "\n",
            "/usr/local/lib/python3.7/dist-packages/sklearn/feature_selection/_univariate_selection.py:304: RuntimeWarning:\n",
            "\n",
            "invalid value encountered in true_divide\n",
            "\n",
            "/usr/local/lib/python3.7/dist-packages/sklearn/feature_selection/_univariate_selection.py:299: RuntimeWarning:\n",
            "\n",
            "divide by zero encountered in true_divide\n",
            "\n",
            "/usr/local/lib/python3.7/dist-packages/sklearn/feature_selection/_univariate_selection.py:304: RuntimeWarning:\n",
            "\n",
            "invalid value encountered in true_divide\n",
            "\n",
            "/usr/local/lib/python3.7/dist-packages/sklearn/feature_selection/_univariate_selection.py:299: RuntimeWarning:\n",
            "\n",
            "divide by zero encountered in true_divide\n",
            "\n",
            "/usr/local/lib/python3.7/dist-packages/sklearn/feature_selection/_univariate_selection.py:304: RuntimeWarning:\n",
            "\n",
            "invalid value encountered in true_divide\n",
            "\n",
            "/usr/local/lib/python3.7/dist-packages/sklearn/feature_selection/_univariate_selection.py:299: RuntimeWarning:\n",
            "\n",
            "divide by zero encountered in true_divide\n",
            "\n",
            "/usr/local/lib/python3.7/dist-packages/sklearn/feature_selection/_univariate_selection.py:304: RuntimeWarning:\n",
            "\n",
            "invalid value encountered in true_divide\n",
            "\n",
            "/usr/local/lib/python3.7/dist-packages/sklearn/feature_selection/_univariate_selection.py:299: RuntimeWarning:\n",
            "\n",
            "divide by zero encountered in true_divide\n",
            "\n",
            "/usr/local/lib/python3.7/dist-packages/sklearn/feature_selection/_univariate_selection.py:304: RuntimeWarning:\n",
            "\n",
            "invalid value encountered in true_divide\n",
            "\n",
            "/usr/local/lib/python3.7/dist-packages/sklearn/feature_selection/_univariate_selection.py:299: RuntimeWarning:\n",
            "\n",
            "divide by zero encountered in true_divide\n",
            "\n",
            "/usr/local/lib/python3.7/dist-packages/sklearn/feature_selection/_univariate_selection.py:304: RuntimeWarning:\n",
            "\n",
            "invalid value encountered in true_divide\n",
            "\n",
            "/usr/local/lib/python3.7/dist-packages/sklearn/feature_selection/_univariate_selection.py:299: RuntimeWarning:\n",
            "\n",
            "divide by zero encountered in true_divide\n",
            "\n",
            "/usr/local/lib/python3.7/dist-packages/sklearn/feature_selection/_univariate_selection.py:304: RuntimeWarning:\n",
            "\n",
            "invalid value encountered in true_divide\n",
            "\n",
            "/usr/local/lib/python3.7/dist-packages/sklearn/feature_selection/_univariate_selection.py:299: RuntimeWarning:\n",
            "\n",
            "divide by zero encountered in true_divide\n",
            "\n",
            "/usr/local/lib/python3.7/dist-packages/sklearn/feature_selection/_univariate_selection.py:304: RuntimeWarning:\n",
            "\n",
            "invalid value encountered in true_divide\n",
            "\n",
            "/usr/local/lib/python3.7/dist-packages/sklearn/feature_selection/_univariate_selection.py:299: RuntimeWarning:\n",
            "\n",
            "divide by zero encountered in true_divide\n",
            "\n",
            "/usr/local/lib/python3.7/dist-packages/sklearn/feature_selection/_univariate_selection.py:304: RuntimeWarning:\n",
            "\n",
            "invalid value encountered in true_divide\n",
            "\n",
            "/usr/local/lib/python3.7/dist-packages/sklearn/feature_selection/_univariate_selection.py:299: RuntimeWarning:\n",
            "\n",
            "divide by zero encountered in true_divide\n",
            "\n",
            "/usr/local/lib/python3.7/dist-packages/sklearn/feature_selection/_univariate_selection.py:304: RuntimeWarning:\n",
            "\n",
            "invalid value encountered in true_divide\n",
            "\n",
            "/usr/local/lib/python3.7/dist-packages/sklearn/feature_selection/_univariate_selection.py:299: RuntimeWarning:\n",
            "\n",
            "divide by zero encountered in true_divide\n",
            "\n",
            "/usr/local/lib/python3.7/dist-packages/sklearn/feature_selection/_univariate_selection.py:304: RuntimeWarning:\n",
            "\n",
            "invalid value encountered in true_divide\n",
            "\n",
            "/usr/local/lib/python3.7/dist-packages/sklearn/feature_selection/_univariate_selection.py:299: RuntimeWarning:\n",
            "\n",
            "divide by zero encountered in true_divide\n",
            "\n",
            "/usr/local/lib/python3.7/dist-packages/sklearn/feature_selection/_univariate_selection.py:304: RuntimeWarning:\n",
            "\n",
            "invalid value encountered in true_divide\n",
            "\n",
            "/usr/local/lib/python3.7/dist-packages/sklearn/feature_selection/_univariate_selection.py:299: RuntimeWarning:\n",
            "\n",
            "divide by zero encountered in true_divide\n",
            "\n",
            "/usr/local/lib/python3.7/dist-packages/sklearn/feature_selection/_univariate_selection.py:304: RuntimeWarning:\n",
            "\n",
            "invalid value encountered in true_divide\n",
            "\n",
            "/usr/local/lib/python3.7/dist-packages/sklearn/feature_selection/_univariate_selection.py:299: RuntimeWarning:\n",
            "\n",
            "divide by zero encountered in true_divide\n",
            "\n",
            "/usr/local/lib/python3.7/dist-packages/sklearn/feature_selection/_univariate_selection.py:304: RuntimeWarning:\n",
            "\n",
            "invalid value encountered in true_divide\n",
            "\n",
            "/usr/local/lib/python3.7/dist-packages/sklearn/feature_selection/_univariate_selection.py:299: RuntimeWarning:\n",
            "\n",
            "divide by zero encountered in true_divide\n",
            "\n",
            "/usr/local/lib/python3.7/dist-packages/sklearn/feature_selection/_univariate_selection.py:304: RuntimeWarning:\n",
            "\n",
            "invalid value encountered in true_divide\n",
            "\n",
            "/usr/local/lib/python3.7/dist-packages/sklearn/feature_selection/_univariate_selection.py:299: RuntimeWarning:\n",
            "\n",
            "divide by zero encountered in true_divide\n",
            "\n",
            "/usr/local/lib/python3.7/dist-packages/sklearn/feature_selection/_univariate_selection.py:304: RuntimeWarning:\n",
            "\n",
            "invalid value encountered in true_divide\n",
            "\n",
            "/usr/local/lib/python3.7/dist-packages/sklearn/feature_selection/_univariate_selection.py:299: RuntimeWarning:\n",
            "\n",
            "divide by zero encountered in true_divide\n",
            "\n",
            "/usr/local/lib/python3.7/dist-packages/sklearn/feature_selection/_univariate_selection.py:304: RuntimeWarning:\n",
            "\n",
            "invalid value encountered in true_divide\n",
            "\n",
            "/usr/local/lib/python3.7/dist-packages/sklearn/feature_selection/_univariate_selection.py:299: RuntimeWarning:\n",
            "\n",
            "divide by zero encountered in true_divide\n",
            "\n",
            "/usr/local/lib/python3.7/dist-packages/sklearn/feature_selection/_univariate_selection.py:304: RuntimeWarning:\n",
            "\n",
            "invalid value encountered in true_divide\n",
            "\n",
            "/usr/local/lib/python3.7/dist-packages/sklearn/feature_selection/_univariate_selection.py:299: RuntimeWarning:\n",
            "\n",
            "divide by zero encountered in true_divide\n",
            "\n",
            "/usr/local/lib/python3.7/dist-packages/sklearn/feature_selection/_univariate_selection.py:304: RuntimeWarning:\n",
            "\n",
            "invalid value encountered in true_divide\n",
            "\n",
            "/usr/local/lib/python3.7/dist-packages/sklearn/feature_selection/_univariate_selection.py:299: RuntimeWarning:\n",
            "\n",
            "divide by zero encountered in true_divide\n",
            "\n",
            "/usr/local/lib/python3.7/dist-packages/sklearn/feature_selection/_univariate_selection.py:304: RuntimeWarning:\n",
            "\n",
            "invalid value encountered in true_divide\n",
            "\n",
            "/usr/local/lib/python3.7/dist-packages/sklearn/feature_selection/_univariate_selection.py:299: RuntimeWarning:\n",
            "\n",
            "divide by zero encountered in true_divide\n",
            "\n",
            "/usr/local/lib/python3.7/dist-packages/sklearn/feature_selection/_univariate_selection.py:304: RuntimeWarning:\n",
            "\n",
            "invalid value encountered in true_divide\n",
            "\n",
            "/usr/local/lib/python3.7/dist-packages/sklearn/feature_selection/_univariate_selection.py:299: RuntimeWarning:\n",
            "\n",
            "divide by zero encountered in true_divide\n",
            "\n",
            "/usr/local/lib/python3.7/dist-packages/sklearn/feature_selection/_univariate_selection.py:304: RuntimeWarning:\n",
            "\n",
            "invalid value encountered in true_divide\n",
            "\n",
            "/usr/local/lib/python3.7/dist-packages/sklearn/feature_selection/_univariate_selection.py:299: RuntimeWarning:\n",
            "\n",
            "divide by zero encountered in true_divide\n",
            "\n",
            "/usr/local/lib/python3.7/dist-packages/sklearn/feature_selection/_univariate_selection.py:304: RuntimeWarning:\n",
            "\n",
            "invalid value encountered in true_divide\n",
            "\n",
            "/usr/local/lib/python3.7/dist-packages/sklearn/feature_selection/_univariate_selection.py:299: RuntimeWarning:\n",
            "\n",
            "divide by zero encountered in true_divide\n",
            "\n",
            "/usr/local/lib/python3.7/dist-packages/sklearn/feature_selection/_univariate_selection.py:304: RuntimeWarning:\n",
            "\n",
            "invalid value encountered in true_divide\n",
            "\n",
            "/usr/local/lib/python3.7/dist-packages/sklearn/feature_selection/_univariate_selection.py:299: RuntimeWarning:\n",
            "\n",
            "divide by zero encountered in true_divide\n",
            "\n",
            "/usr/local/lib/python3.7/dist-packages/sklearn/feature_selection/_univariate_selection.py:304: RuntimeWarning:\n",
            "\n",
            "invalid value encountered in true_divide\n",
            "\n",
            "/usr/local/lib/python3.7/dist-packages/sklearn/feature_selection/_univariate_selection.py:299: RuntimeWarning:\n",
            "\n",
            "divide by zero encountered in true_divide\n",
            "\n",
            "/usr/local/lib/python3.7/dist-packages/sklearn/feature_selection/_univariate_selection.py:304: RuntimeWarning:\n",
            "\n",
            "invalid value encountered in true_divide\n",
            "\n"
          ]
        },
        {
          "output_type": "execute_result",
          "data": {
            "text/plain": [
              "<matplotlib.axes._subplots.AxesSubplot at 0x7f7fd9763a50>"
            ]
          },
          "metadata": {},
          "execution_count": 92
        },
        {
          "output_type": "display_data",
          "data": {
            "image/png": "[encoded data removed]",
            "text/plain": [
              "<Figure size 432x288 with 1 Axes>"
            ]
          },
          "metadata": {
            "needs_background": "light"
          }
        }
      ]
    },
    {
      "cell_type": "markdown",
      "metadata": {
        "id": "TTE2qVadL-FQ"
      },
      "source": [
        "disini saya ingin mencoba dengan polynomial features sebagai preprocesingnya dan ternyata dengan polynomial memberikan akurasi yang besaryaitu 0.94 dengan dengan K sekitar 110 an dan disini saya mencoba dengan K=110"
      ]
    },
    {
      "cell_type": "code",
      "metadata": {
        "colab": {
          "base_uri": "https://localhost:8080/"
        },
        "id": "hT1yOS5SHsh2",
        "outputId": "961485f7-88d1-4047-ee1b-b1f91ad69ad5"
      },
      "source": [
        "selector = SelectKBest(f_regression, k = 110)\n",
        "X_train_transformed = selector.fit_transform(X_train_transformed_poly, Y_train)\n",
        "X_test_transformed = selector.transform(X_test_transformed_poly)"
      ],
      "execution_count": 93,
      "outputs": [
        {
          "output_type": "stream",
          "name": "stderr",
          "text": [
            "/usr/local/lib/python3.7/dist-packages/sklearn/feature_selection/_univariate_selection.py:299: RuntimeWarning:\n",
            "\n",
            "divide by zero encountered in true_divide\n",
            "\n",
            "/usr/local/lib/python3.7/dist-packages/sklearn/feature_selection/_univariate_selection.py:304: RuntimeWarning:\n",
            "\n",
            "invalid value encountered in true_divide\n",
            "\n"
          ]
        }
      ]
    },
    {
      "cell_type": "markdown",
      "metadata": {
        "id": "e4wDWn1HMiC1"
      },
      "source": [
        "# Conclusion"
      ]
    },
    {
      "cell_type": "code",
      "metadata": {
        "colab": {
          "base_uri": "https://localhost:8080/",
          "height": 426
        },
        "id": "qD5eBWQaH6KA",
        "outputId": "8e397b9c-9c00-4a9e-c056-26f96a8725fb"
      },
      "source": [
        "models_to_evaluate = [LinearRegression(), Ridge(), Lasso(), SVR(), RandomForestRegressor(), MLPRegressor()]\n",
        "\n",
        "for model in models_to_evaluate:\n",
        "    regressor, score = regression_model(model)\n",
        "    model_performance = model_performance.append({\"Features\": \"Polynomial\",\"Model\": model, \"Score\": score}, ignore_index=True)\n",
        "\n",
        "model_performance"
      ],
      "execution_count": 94,
      "outputs": [
        {
          "output_type": "execute_result",
          "data": {
            "text/html": [
              "<div>\n",
              "<style scoped>\n",
              "    .dataframe tbody tr th:only-of-type {\n",
              "        vertical-align: middle;\n",
              "    }\n",
              "\n",
              "    .dataframe tbody tr th {\n",
              "        vertical-align: top;\n",
              "    }\n",
              "\n",
              "    .dataframe thead th {\n",
              "        text-align: right;\n",
              "    }\n",
              "</style>\n",
              "<table border=\"1\" class=\"dataframe\">\n",
              "  <thead>\n",
              "    <tr style=\"text-align: right;\">\n",
              "      <th></th>\n",
              "      <th>Features</th>\n",
              "      <th>Model</th>\n",
              "      <th>Score</th>\n",
              "    </tr>\n",
              "  </thead>\n",
              "  <tbody>\n",
              "    <tr>\n",
              "      <th>0</th>\n",
              "      <td>Linear</td>\n",
              "      <td>LinearRegression(copy_X=True, fit_intercept=Tr...</td>\n",
              "      <td>0.877321</td>\n",
              "    </tr>\n",
              "    <tr>\n",
              "      <th>1</th>\n",
              "      <td>Linear</td>\n",
              "      <td>Ridge(alpha=1.0, copy_X=True, fit_intercept=Tr...</td>\n",
              "      <td>0.877327</td>\n",
              "    </tr>\n",
              "    <tr>\n",
              "      <th>2</th>\n",
              "      <td>Linear</td>\n",
              "      <td>Lasso(alpha=1.0, copy_X=True, fit_intercept=Tr...</td>\n",
              "      <td>-0.000003</td>\n",
              "    </tr>\n",
              "    <tr>\n",
              "      <th>3</th>\n",
              "      <td>Linear</td>\n",
              "      <td>SVR(C=1.0, cache_size=200, coef0=0.0, degree=3...</td>\n",
              "      <td>0.935133</td>\n",
              "    </tr>\n",
              "    <tr>\n",
              "      <th>4</th>\n",
              "      <td>Linear</td>\n",
              "      <td>(DecisionTreeRegressor(ccp_alpha=0.0, criterio...</td>\n",
              "      <td>0.947823</td>\n",
              "    </tr>\n",
              "    <tr>\n",
              "      <th>5</th>\n",
              "      <td>Linear</td>\n",
              "      <td>MLPRegressor(activation='relu', alpha=0.0001, ...</td>\n",
              "      <td>0.937424</td>\n",
              "    </tr>\n",
              "    <tr>\n",
              "      <th>6</th>\n",
              "      <td>Polynomial</td>\n",
              "      <td>LinearRegression(copy_X=True, fit_intercept=Tr...</td>\n",
              "      <td>0.927868</td>\n",
              "    </tr>\n",
              "    <tr>\n",
              "      <th>7</th>\n",
              "      <td>Polynomial</td>\n",
              "      <td>Ridge(alpha=1.0, copy_X=True, fit_intercept=Tr...</td>\n",
              "      <td>0.927858</td>\n",
              "    </tr>\n",
              "    <tr>\n",
              "      <th>8</th>\n",
              "      <td>Polynomial</td>\n",
              "      <td>Lasso(alpha=1.0, copy_X=True, fit_intercept=Tr...</td>\n",
              "      <td>0.131455</td>\n",
              "    </tr>\n",
              "    <tr>\n",
              "      <th>9</th>\n",
              "      <td>Polynomial</td>\n",
              "      <td>SVR(C=1.0, cache_size=200, coef0=0.0, degree=3...</td>\n",
              "      <td>0.931676</td>\n",
              "    </tr>\n",
              "    <tr>\n",
              "      <th>10</th>\n",
              "      <td>Polynomial</td>\n",
              "      <td>(DecisionTreeRegressor(ccp_alpha=0.0, criterio...</td>\n",
              "      <td>0.951851</td>\n",
              "    </tr>\n",
              "    <tr>\n",
              "      <th>11</th>\n",
              "      <td>Polynomial</td>\n",
              "      <td>MLPRegressor(activation='relu', alpha=0.0001, ...</td>\n",
              "      <td>0.946385</td>\n",
              "    </tr>\n",
              "  </tbody>\n",
              "</table>\n",
              "</div>"
            ],
            "text/plain": [
              "      Features                                              Model     Score\n",
              "0       Linear  LinearRegression(copy_X=True, fit_intercept=Tr...  0.877321\n",
              "1       Linear  Ridge(alpha=1.0, copy_X=True, fit_intercept=Tr...  0.877327\n",
              "2       Linear  Lasso(alpha=1.0, copy_X=True, fit_intercept=Tr... -0.000003\n",
              "3       Linear  SVR(C=1.0, cache_size=200, coef0=0.0, degree=3...  0.935133\n",
              "4       Linear  (DecisionTreeRegressor(ccp_alpha=0.0, criterio...  0.947823\n",
              "5       Linear  MLPRegressor(activation='relu', alpha=0.0001, ...  0.937424\n",
              "6   Polynomial  LinearRegression(copy_X=True, fit_intercept=Tr...  0.927868\n",
              "7   Polynomial  Ridge(alpha=1.0, copy_X=True, fit_intercept=Tr...  0.927858\n",
              "8   Polynomial  Lasso(alpha=1.0, copy_X=True, fit_intercept=Tr...  0.131455\n",
              "9   Polynomial  SVR(C=1.0, cache_size=200, coef0=0.0, degree=3...  0.931676\n",
              "10  Polynomial  (DecisionTreeRegressor(ccp_alpha=0.0, criterio...  0.951851\n",
              "11  Polynomial  MLPRegressor(activation='relu', alpha=0.0001, ...  0.946385"
            ]
          },
          "metadata": {},
          "execution_count": 94
        }
      ]
    },
    {
      "cell_type": "markdown",
      "metadata": {
        "id": "RWLHj95RMe2M"
      },
      "source": [
        "Dengan menggunakan Polynomial terbukti memberikan hasil yang terbaik yaitu sebesar 0.951851 dengan begitu, hasil prediksi saya akan memberikan prediksi yang baik karena sudah diatas 93% yaitu 95%"
      ]
    }
  ]
}
